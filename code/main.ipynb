{
  "cells": [
    {
      "cell_type": "code",
      "execution_count": null,
      "metadata": {
        "id": "y_zraC4HC4Qw"
      },
      "outputs": [],
      "source": [
        "import numpy as np\n",
        "from sklearn.linear_model import LinearRegression\n",
        "\n",
        "REG_COEFF = 1e-32\n",
        "\n",
        "\n",
        "class ModifiedConvexRegression:\n",
        "\n",
        "    def __init__(self, num_epochs=None):\n",
        "        self.predictors_coeff = {}\n",
        "        self.num_epochs = num_epochs\n",
        "\n",
        "    def _boostrap(self, X, y):\n",
        "        idx_boostrap = np.random.randint(0, self.num_objects, self.num_objects)\n",
        "        X_boostrap = X[idx_boostrap]\n",
        "        y_boostrap = y[idx_boostrap]\n",
        "        return X_boostrap, y_boostrap\n",
        "\n",
        "    def _make_predictors(self, X, y):\n",
        "        predictors = []\n",
        "\n",
        "        for idx_feature in range(self.num_features):\n",
        "            predictor = LinearRegression()\n",
        "            feature = X[:, idx_feature].reshape(-1, 1)\n",
        "            predictor.fit(feature, y)\n",
        "            predictors.append(predictor)\n",
        "\n",
        "        self.predictors = np.array(predictors)\n",
        "\n",
        "    def _get_variance_matrix(self, X_valid):\n",
        "        variance_matrix = np.zeros(self.num_features)\n",
        "        for idx_prediction in range(self.num_features):\n",
        "            predictor = self.predictors[idx_prediction]\n",
        "\n",
        "            predictions = []\n",
        "            for idx_feature in range(self.num_features):\n",
        "                feature = X_valid[:, idx_feature].reshape(-1, 1)\n",
        "                prediction = predictor.predict(feature)\n",
        "                predictions.append(prediction)\n",
        "\n",
        "            predictions = np.array(predictions)\n",
        "            variance_matrix[idx_prediction] = predictions.var()\n",
        "\n",
        "        return variance_matrix\n",
        "\n",
        "    def _get_distance_matrix(self, X_valid):\n",
        "        distance_matrix = np.zeros((self.num_features, self.num_features))\n",
        "\n",
        "        for idx_feature_1 in range(self.num_features):\n",
        "            for idx_feature_2 in range(idx_feature_1 + 1, self.num_features):\n",
        "\n",
        "                feature_1 = X_valid[:, idx_feature_1].reshape(-1, 1)\n",
        "                feature_2 = X_valid[:, idx_feature_2].reshape(-1, 1)\n",
        "\n",
        "                predictor_1 = self.predictors[idx_feature_1]\n",
        "                predictor_2 = self.predictors[idx_feature_2]\n",
        "\n",
        "                prediction_1 = predictor_1.predict(feature_1)\n",
        "                prediction_2 = predictor_2.predict(feature_2)\n",
        "\n",
        "                distance_matrix[idx_feature_1][idx_feature_2] = ((prediction_1 - prediction_2) ** 2).mean()\n",
        "\n",
        "        distance_matrix += distance_matrix.T\n",
        "\n",
        "        return distance_matrix\n",
        "\n",
        "    def _get_thetas(self, variance_matrix, distance_matrix, y_valid):\n",
        "        thetas_numerator = (-2) * distance_matrix * (variance_matrix[:, None] @ variance_matrix[None, :])\n",
        "        variance_dif = variance_matrix[:, None] - variance_matrix[None, :]\n",
        "        variance_sum = variance_matrix[:, None] + variance_matrix[None, :]\n",
        "        thetas_denominator = (variance_dif ** 2 - distance_matrix * variance_sum + REG_COEFF)\n",
        "        thetas = thetas_numerator / thetas_denominator\n",
        "\n",
        "        condition = (thetas > variance_matrix[:, None]) * (thetas < variance_matrix[None, :])\n",
        "        thetas = np.abs(thetas * (condition + condition.T))\n",
        "\n",
        "        P_corr_numerator = (thetas / np.std(y_valid))\n",
        "        denominator_numerator = (thetas - variance_matrix[:, None]) * (thetas - variance_matrix[None, :])\n",
        "        denominator_denominator = variance_matrix[:, None] - variance_matrix[None, :] + REG_COEFF\n",
        "        P_corr_denominator = (1 / (thetas - distance_matrix * (denominator_numerator / denominator_denominator ** 2) + REG_COEFF))\n",
        "        P_corr = np.abs(P_corr_numerator * P_corr_denominator) ** 0.5\n",
        "        V_corr = np.sqrt(variance_matrix) / np.std(y_valid)\n",
        "\n",
        "        thetas *= (P_corr > V_corr[:, None]) + (P_corr > V_corr[None, :])\n",
        "        return thetas\n",
        "\n",
        "    def _get_k(self, theta, B):\n",
        "        B_0, B_1, B_2 = B\n",
        "        k = theta / np.sqrt((1 - B_1) * theta - B_2 * theta ** 2 - B_0)\n",
        "        return k\n",
        "\n",
        "    def _make_ensemble(self, ensemble, variance_matrix, distance_matrix):\n",
        "        variance_matrix_save = variance_matrix\n",
        "        variance_matrix = variance_matrix[ensemble, None]\n",
        "\n",
        "        P = distance_matrix[ensemble][:, ensemble]\n",
        "        try:\n",
        "            P1 = np.linalg.inv(P)\n",
        "\n",
        "        except Exception as exception:\n",
        "            return\n",
        "\n",
        "        alpha = variance_matrix.T @ P1 @ variance_matrix\n",
        "        beta = np.sum(P1, axis=0) @ variance_matrix\n",
        "        gamma = np.sum(P1)\n",
        "\n",
        "        PHI = (P1 @ variance_matrix)[:, 0]\n",
        "        PSI = np.sum(P1, axis=1)\n",
        "\n",
        "        GAMMA_0 = ((alpha * PSI - beta * PHI) / (alpha * gamma - beta ** 2))[0]\n",
        "        GAMMA_1 = ((gamma * PHI - beta * PSI) / (alpha * gamma - beta ** 2))[0]\n",
        "\n",
        "        if ((GAMMA_0 < 0) * (GAMMA_1 < 0)).any():\n",
        "            return\n",
        "\n",
        "        mask = (GAMMA_0 < 0)\n",
        "        thetas_interval = - GAMMA_0[mask] / GAMMA_1[mask]\n",
        "        thetas_interval = thetas_interval[thetas_interval > 0]\n",
        "        theta_min = np.max(thetas_interval)\n",
        "\n",
        "        mask = (GAMMA_1 < 0)\n",
        "        thetas_interval = - GAMMA_0[mask] / GAMMA_1[mask]\n",
        "        thetas_interval = thetas_interval[thetas_interval > 0]\n",
        "        theta_max = np.min(thetas_interval)\n",
        "\n",
        "        B_0 = np.sum(GAMMA_0[:, None] @ GAMMA_0[None, :] * P1)\n",
        "        B_1 = np.sum((GAMMA_0[:, None] @ GAMMA_1[None, :] + GAMMA_1[:, None] @ GAMMA_0[None, :]) * P1)\n",
        "        B_2 = np.sum(GAMMA_1[:, None] @ GAMMA_1[None, :] * P1)\n",
        "        B = (B_0, B_1, B_2)\n",
        "\n",
        "        theta = (2 * B_0) / (1 - B_1)\n",
        "\n",
        "        if theta < theta_min or theta > theta_max:\n",
        "            return\n",
        "\n",
        "        if self._get_k(theta, B) <= self._get_k(theta_min, B):\n",
        "            return\n",
        "\n",
        "        if self._get_k(theta, B) <= self._get_k(theta_max, B):\n",
        "            return\n",
        "\n",
        "        coeff = GAMMA_0 + GAMMA_1 * theta\n",
        "\n",
        "        ensemble_last_idx = tuple(sorted(ensemble[:-1]))\n",
        "        if ensemble_last_idx in self.predictors_coeff:\n",
        "            del self.predictors_coeff[ensemble_last_idx]\n",
        "\n",
        "        ensemble_new_idx = tuple(sorted(ensemble))\n",
        "        if ensemble_new_idx in self.predictors_coeff:\n",
        "            self.predictors_coeff[ensemble_new_idx].append(coeff)\n",
        "        else:\n",
        "            self.predictors_coeff[ensemble_new_idx] = [coeff]\n",
        "\n",
        "        for feature_new_idx in range(self.num_features):\n",
        "            if feature_new_idx not in ensemble:\n",
        "                ensemble_new = ensemble.copy()\n",
        "                ensemble_new.append(feature_new_idx)\n",
        "                self._make_ensemble(ensemble_new, variance_matrix_save, distance_matrix)\n",
        "\n",
        "    def _get_pair_max(self, distance_matrix, thetas):\n",
        "        pair_max = [-1, -1]\n",
        "        distance_max = -np.inf\n",
        "\n",
        "        thetas = thetas.nonzero()\n",
        "        for pair in zip(*thetas):\n",
        "            pair = list(pair)\n",
        "            distance = distance_matrix[pair[0], pair[1]]\n",
        "\n",
        "            if distance > distance_max:\n",
        "                distance_max = distance\n",
        "                pair_max = pair\n",
        "\n",
        "        return pair_max\n",
        "\n",
        "    def _make_ensemble_pair(self, variance_matrix, distance_matrix, thetas, pair):\n",
        "        predictor_idx_1 = pair[0]\n",
        "        predictor_idx_2 = pair[1]\n",
        "\n",
        "        coeff_numerator = thetas[predictor_idx_1][predictor_idx_2] - variance_matrix[predictor_idx_1]\n",
        "        coeff_denominator = variance_matrix[predictor_idx_2] - variance_matrix[predictor_idx_1]\n",
        "        coeff = coeff_numerator / coeff_denominator\n",
        "\n",
        "        pair_new = tuple(sorted(pair))\n",
        "        if pair_new in self.predictors_coeff:\n",
        "            self.predictors_coeff[pair_new].append([coeff, 1 - coeff])\n",
        "        else:\n",
        "            self.predictors_coeff[pair_new] = [[coeff, 1 - coeff]]\n",
        "\n",
        "        for idx_new in range(self.num_features):\n",
        "            if idx_new in pair:\n",
        "                continue\n",
        "\n",
        "            ensemble_new = pair.copy()\n",
        "            ensemble_new.append(idx_new)\n",
        "            self._make_ensemble(ensemble_new, variance_matrix, distance_matrix)\n",
        "\n",
        "    def _make_predictors_coeff(self):\n",
        "        for key, value in self.predictors_coeff.items():\n",
        "            value = np.array(value)\n",
        "            self.predictors_coeff[key] = list(np.mean(value, axis=0))\n",
        "\n",
        "    def _get_corr_coeff(self, X, y):\n",
        "        corr_coeffs = []\n",
        "\n",
        "        for (predictor_idxs, coeffs) in self.predictors_coeff.items():\n",
        "            predictions = np.zeros_like(y)\n",
        "\n",
        "            for idx, predictor_idx in enumerate(predictor_idxs):\n",
        "                predictor = self.predictors[predictor_idx]\n",
        "                prediction = predictor.predict(X[:, predictor_idx].reshape(-1, 1))\n",
        "                predictions += prediction * coeffs[idx]\n",
        "\n",
        "            corr_coeff = np.corrcoef(predictions, y)[0][1]\n",
        "            corr_coeffs.append(corr_coeff)\n",
        "\n",
        "        self.corr_coeffs = np.array(corr_coeffs)\n",
        "\n",
        "    def _get_feature_prediction(self, X, tau):\n",
        "        all_predictions = []\n",
        "\n",
        "        for (predictor_idxs, coeffs) in self.predictors_coeff.items():\n",
        "            predictions = np.zeros(X.shape[0])\n",
        "\n",
        "            for idx, predictor_idx in enumerate(predictor_idxs):\n",
        "                predictor = self.predictors[predictor_idx]\n",
        "                prediction = predictor.predict(X[:, predictor_idx].reshape(-1, 1))\n",
        "                predictions += prediction * coeffs[idx]\n",
        "\n",
        "            all_predictions.append(predictions)\n",
        "        all_predictions = np.array(all_predictions)\n",
        "\n",
        "        mask = (self.corr_coeffs > tau * np.max(self.corr_coeffs))\n",
        "        feature_prediction = (all_predictions[mask] * (1 - self.corr_coeffs[mask] ** 2)[:, None]).sum(axis=0)\n",
        "        return feature_prediction\n",
        "\n",
        "    def _get_tau_best(self, X, y):\n",
        "        tau_best = 0\n",
        "        corr_best = 0\n",
        "\n",
        "        for tau in np.linspace(0, 1, 1000):\n",
        "            y_valid_predicted = self._get_feature_prediction(X, tau)\n",
        "            corr = np.abs(np.corrcoef(y_valid_predicted, y_valid)[0, 1])\n",
        "\n",
        "            if corr > corr_best:\n",
        "                corr_best = corr\n",
        "                tau_best = tau\n",
        "\n",
        "        return tau_best, corr_best\n",
        "\n",
        "    def fit(self, X_train, y_train, X_valid, y_valid):\n",
        "        self.num_objects, self.num_features = X_train.shape\n",
        "        self.X_valid = X_valid\n",
        "        self.y_valid = y_valid\n",
        "\n",
        "        if not self.num_epochs:\n",
        "            self.num_epochs = 2 * self.num_features\n",
        "\n",
        "        for epoch in range(self.num_epochs):\n",
        "            X_train_boostrap, y_train_boostrap = self._boostrap(X_train, y_train)\n",
        "            self._make_predictors(X_train_boostrap, y_train_boostrap)\n",
        "            variance_matrix = self._get_variance_matrix(X_valid)\n",
        "            distance_matrix = self._get_distance_matrix(X_valid)\n",
        "            thetas = self._get_thetas(variance_matrix, distance_matrix, y_valid)\n",
        "            pair = self._get_pair_max(distance_matrix, thetas)\n",
        "            self._make_ensemble_pair(variance_matrix, distance_matrix, thetas, pair)\n",
        "        self._make_predictors_coeff()\n",
        "\n",
        "        self._get_corr_coeff(X_valid, y_valid)\n",
        "        self.tau, self.corr_valid = self._get_tau_best(X_valid, y_valid)\n",
        "\n",
        "        feature_train = self._get_feature_prediction(X_train, self.tau)\n",
        "        self.linear_transformation = LinearRegression()\n",
        "        self.linear_transformation.fit(feature_train.reshape(-1, 1), y_train)\n",
        "\n",
        "    def predict(self, X):\n",
        "        self.feature_test = self._get_feature_prediction(X, self.tau)\n",
        "        prediction = self.linear_transformation.predict(self.feature_test.reshape(-1, 1))\n",
        "        return prediction"
      ]
    },
    {
      "cell_type": "code",
      "execution_count": null,
      "metadata": {
        "id": "E8xwkOLOC_LQ"
      },
      "outputs": [],
      "source": [
        "import numpy as np\n",
        "from sklearn.linear_model import LinearRegression\n",
        "\n",
        "class VPK():\n",
        "\n",
        "    def __init__(self, mode='corr', tau=0):\n",
        "        self.ans = {}\n",
        "        self.head = LinearRegression()\n",
        "        self.mode = mode\n",
        "        self.tau = tau\n",
        "\n",
        "    def _create_predictors(self, X_train, y_train):\n",
        "        predictors = []\n",
        "        for i in range(self.n_features):\n",
        "            regression = LinearRegression()\n",
        "            regression.fit(X_train[:, i].reshape(-1, 1), y_train)\n",
        "            predictors.append(regression)\n",
        "\n",
        "        self.predictors = np.array(predictors)\n",
        "\n",
        "    def _get_vars(self, X_valid):\n",
        "        vars = np.zeros(self.n_features)\n",
        "        for i in range(self.n_features):\n",
        "            predictor = self.predictors[i]\n",
        "            preds = []\n",
        "            for j in range(self.n_features):\n",
        "                x = X_valid[:, j].reshape(-1, 1)\n",
        "                preds.append(predictor.predict(x))\n",
        "            preds = np.array(preds)\n",
        "            vars[i] = preds.var()\n",
        "        self.vars = vars\n",
        "\n",
        "    def _get_dists(self, X_valid):\n",
        "        dists = np.zeros((self.n_features, self.n_features))\n",
        "        for i in range(self.n_features):\n",
        "            for j in range(i+1, self.n_features):\n",
        "                x_i = X_valid[:, i].reshape(-1, 1)\n",
        "                x_j = X_valid[:, j].reshape(-1, 1)\n",
        "                predictor1, predictor2 = self.predictors[i], self.predictors[j]\n",
        "                pred1, pred2 = predictor1.predict(x_i), predictor2.predict(x_j)\n",
        "                dists[i][j] = ((pred1 - pred2)**2).mean()\n",
        "        dists += dists.T\n",
        "        self.dists = dists\n",
        "\n",
        "    def _get_thetas(self, y_valid):\n",
        "        thetas = ((-2) * self.dists * (self.vars[:, None] @ self.vars[None, :])) / ((self.vars[:, None] - self.vars[None, :])**2 - self.dists * (self.vars[:, None] + self.vars[None, :]) + 1e-32)\n",
        "\n",
        "        good_thetas = np.abs(thetas * (\n",
        "                    (thetas > self.vars[:, None]) * (thetas < self.vars[None, :]) + \\\n",
        "                    ((thetas > self.vars[:, None]) * (thetas < self.vars[None, :])).T)\n",
        "              )\n",
        "        cor_P = np.abs((good_thetas / np.std(y_valid)) * \\\n",
        "                (1 / (good_thetas - self.dists * ((good_thetas - self.vars[:, None]) * \\\n",
        "                (good_thetas - self.vars[None, :]) / (self.vars[:, None] - self.vars[None, :] + 1e-32)**2) + 1e-32)))**0.5\n",
        "        cor_V = np.sqrt(self.vars) / np.std(y_valid)\n",
        "\n",
        "        good_thetas = good_thetas * ((cor_P > cor_V[:, None]) + (cor_P > cor_V[None, :]))\n",
        "\n",
        "        self.thetas = good_thetas\n",
        "\n",
        "    def k(self, theta, B):\n",
        "        B0, B1, B2 = B\n",
        "        return theta / np.sqrt((1 - B1) * theta - B2 * theta**2 - B0)\n",
        "\n",
        "    def create_ensemble(self, ensemble, vars, dists):\n",
        "        P = dists[ensemble][:, ensemble]\n",
        "        try:\n",
        "            P1 = np.linalg.inv(P)\n",
        "        except Exception as e:\n",
        "            print('Can not revers dists matrix')\n",
        "            return\n",
        "\n",
        "        cur_vars = vars[ensemble, None]\n",
        "        alpha = (cur_vars.T @ P1 @ cur_vars)\n",
        "        beta = (np.sum(P1, axis=0) @ cur_vars)\n",
        "        gamma = np.sum(P1)\n",
        "\n",
        "        PHI = (P1 @ cur_vars)[:, 0]\n",
        "        PSI = np.sum(P1, axis=1)\n",
        "\n",
        "        GAMMA0 = ((alpha * PSI - beta * PHI) / (alpha * gamma - beta**2))[0]\n",
        "        GAMMA1 = ((gamma * PHI - beta * PSI) / (alpha * gamma - beta**2))[0]\n",
        "\n",
        "        if ((GAMMA0 < 0) * (GAMMA1 < 0)).any():\n",
        "            return\n",
        "\n",
        "        mask = GAMMA0 < 0\n",
        "\n",
        "        thetas_interval = - GAMMA0[mask] / GAMMA1[mask]\n",
        "        thetas_interval = thetas_interval[thetas_interval > 0]\n",
        "\n",
        "        theta_min = np.max(thetas_interval)\n",
        "\n",
        "        mask = GAMMA1 < 0\n",
        "\n",
        "        thetas_interval = - GAMMA0[mask] / GAMMA1[mask]\n",
        "        thetas_interval = thetas_interval[thetas_interval > 0]\n",
        "\n",
        "        theta_max = np.min(thetas_interval)\n",
        "\n",
        "        B0 = np.sum(GAMMA0[:, None] @ GAMMA0[None, :] * P1)\n",
        "        B1 = np.sum((GAMMA0[:, None] @ GAMMA1[None, :] + GAMMA1[:, None] @ GAMMA0[None, :]) * P1)\n",
        "        B2 = np.sum(GAMMA1[:, None] @ GAMMA1[None, :] * P1)\n",
        "        B = (B0, B1, B2)\n",
        "\n",
        "        theta = (2 * B0) / (1-B1)\n",
        "\n",
        "        if theta < theta_min or theta > theta_max:\n",
        "            return\n",
        "        if (1 - B1) * theta - B2 * theta**2 - B0 < 0:\n",
        "            return\n",
        "\n",
        "        if self.k(theta, B) <= self.k(theta_min, B):\n",
        "            return\n",
        "\n",
        "        if self.k(theta, B) <= self.k(theta_max, B):\n",
        "            return\n",
        "\n",
        "        c = GAMMA0 + GAMMA1 * theta\n",
        "\n",
        "        if tuple(sorted(ensemble[:-1])) in self.ans.keys():\n",
        "            del self.ans[tuple(sorted(ensemble[:-1]))]\n",
        "\n",
        "        self.ans[tuple(sorted(ensemble))] = c\n",
        "        for i in range(self.n_features):\n",
        "            if i not in ensemble:\n",
        "                new_ensemble = ensemble.copy()\n",
        "                new_ensemble.append(i)\n",
        "                self.create_ensemble(new_ensemble, vars, dists)\n",
        "\n",
        "    def _start(self):\n",
        "        s = set()\n",
        "        for pair in zip(*self.thetas.nonzero()):\n",
        "            list_pair = list(pair)\n",
        "            if tuple(sorted(list_pair)) not in s:\n",
        "\n",
        "                c1 = (self.thetas[list_pair[0]][list_pair[1]] - self.vars[list_pair[0]]) / (self.vars[list_pair[1]] - self.vars[list_pair[0]])\n",
        "                self.ans[tuple(sorted(list_pair))] = [c1, 1 - c1]\n",
        "                for new_index in range(self.n_features):\n",
        "                    if new_index in list_pair:\n",
        "                        continue\n",
        "                    list_three = list_pair.copy()\n",
        "                    list_three.append(new_index)\n",
        "                    self.create_ensemble(list_three, self.vars, self.dists)\n",
        "\n",
        "                s.add(tuple(list(pair)))\n",
        "\n",
        "    def _get_cor_coefs(self, X_valid, y_valid):\n",
        "        corr_coefs = []\n",
        "        for item in self.ans.items():\n",
        "            indeces, c = item\n",
        "            pred = np.zeros_like(y_valid)\n",
        "            for i, ind in enumerate(indeces):\n",
        "                pred += self.predictors[ind].predict(X_valid[:, ind].reshape(-1, 1)) * c[i]\n",
        "            corr_coefs.append(np.corrcoef(pred, y_valid)[0][1])\n",
        "\n",
        "        self.corr_coefs = np.array(corr_coefs)\n",
        "\n",
        "    def fit(self, X_train, y_train, X_valid, y_valid):\n",
        "        self.n_features = X_train.shape[1]\n",
        "        self._create_predictors(X_train, y_train)\n",
        "        self._get_vars(X_valid)\n",
        "        self._get_dists(X_valid)\n",
        "        self._get_thetas(y_valid)\n",
        "        self._start()\n",
        "        self._get_cor_coefs(X_valid, y_valid)\n",
        "        y_train_preds = self._predict_without_head(X_train)\n",
        "        self.head.fit(y_train_preds.reshape(-1, 1), y_train)\n",
        "\n",
        "\n",
        "    def _predict_without_head(self, X):\n",
        "        all_preds = []\n",
        "        for item in self.ans.items():\n",
        "            indeces, c = item\n",
        "            pred = np.zeros(X.shape[0])\n",
        "            for i, ind in enumerate(indeces):\n",
        "                pred += self.predictors[ind].predict(X[:, ind].reshape(-1, 1)) * c[i]\n",
        "            all_preds.append(pred)\n",
        "\n",
        "        all_preds = np.array(all_preds)\n",
        "\n",
        "        if self.mode == 'mean':\n",
        "            return all_preds.mean(axis=0)[:, None]\n",
        "        elif self.mode == 'corr':\n",
        "            mask = np.abs(self.corr_coefs) > self.tau * np.max(np.abs(self.corr_coefs))\n",
        "            return (all_preds[mask] * (1 - self.corr_coefs[mask]**2)[:, None]).sum(axis=0)[:, None]\n",
        "\n",
        "\n",
        "    def predict(self, X):\n",
        "        return self.head.predict(self._predict_without_head(X))"
      ]
    },
    {
      "cell_type": "code",
      "execution_count": null,
      "metadata": {
        "id": "oUPvtarkDAgO"
      },
      "outputs": [],
      "source": [
        "import numpy as np\n",
        "import pandas as pd\n",
        "from sklearn.linear_model import LinearRegression, ElasticNet, Ridge, Lasso\n",
        "from sklearn.model_selection import train_test_split\n",
        "from tqdm import tqdm\n",
        "from sklearn.metrics import r2_score, mean_squared_error\n",
        "import time"
      ]
    },
    {
      "cell_type": "code",
      "execution_count": null,
      "metadata": {
        "id": "UEf_OizBaNGu"
      },
      "outputs": [],
      "source": [
        "def generate_data(num_good_features, num_bad_features, num_objects=90, seed=None):\n",
        "    if seed:\n",
        "        np.random.seed(seed)\n",
        "\n",
        "    X_good = np.random.uniform(-10, 10, size=(num_objects, num_good_features))\n",
        "    X_bad = np.random.uniform(-10, 10, size=(num_objects, num_bad_features))\n",
        "\n",
        "    w = np.random.normal(0, 3, num_good_features)\n",
        "    b = np.random.normal(0, 3, 1)\n",
        "    y = X_good @ w + b + np.random.normal(0, 30, num_objects)\n",
        "    X = np.hstack([X_good, X_bad])\n",
        "\n",
        "    X_train, X_test, y_train, y_test = train_test_split(X, y, train_size=0.67)\n",
        "    X_train, X_valid, y_train, y_valid = train_test_split(X_train, y_train, train_size=0.5)\n",
        "\n",
        "    return X_train, y_train, X_valid, y_valid, X_test, y_test"
      ]
    },
    {
      "cell_type": "code",
      "execution_count": null,
      "metadata": {
        "id": "SW3FkyHwDDkK"
      },
      "outputs": [],
      "source": [
        "def f(X):\n",
        "    w = np.random.normal(0, 3, X.shape[1])\n",
        "    b = np.random.normal(0, 3, 1)\n",
        "    return X @ w + b + np.random.normal(0, 30, X.shape[0])"
      ]
    },
    {
      "cell_type": "code",
      "execution_count": null,
      "metadata": {
        "id": "Q87XEDUEDE-6"
      },
      "outputs": [],
      "source": [
        "n_good_features = 5\n",
        "n_bad_features = 35\n",
        "n_features = n_good_features + n_bad_features"
      ]
    },
    {
      "cell_type": "code",
      "execution_count": null,
      "metadata": {
        "colab": {
          "base_uri": "https://localhost:8080/",
          "height": 444
        },
        "id": "MRsVobXmDFiF",
        "outputId": "7605469e-7778-42a1-cbe4-cd3fe7fd4743"
      },
      "outputs": [
        {
          "output_type": "execute_result",
          "data": {
            "text/plain": [
              "          0         1         2         3         4         5         6   \\\n",
              "0   3.173479  1.767004  7.226653  0.770349  1.067244 -5.048164 -0.123022   \n",
              "1   8.980292 -6.167326  6.787494  7.523487  7.379223 -4.185759  6.398884   \n",
              "2   5.906803  9.163825  4.249090  0.133489  2.919417 -1.471712 -7.992025   \n",
              "3  -3.232800 -1.512393  2.100776 -4.827909  3.395942  3.384102  1.102288   \n",
              "4  -0.699954 -5.617773  9.114431 -6.137757  6.320087  6.645350  4.377769   \n",
              "..       ...       ...       ...       ...       ...       ...       ...   \n",
              "85 -6.955974 -9.758575 -6.564500 -5.859472  8.741615  6.962256  1.766424   \n",
              "86  3.102011  3.458808 -8.111993  9.089385  8.992681 -4.741676 -7.617762   \n",
              "87  0.528266 -1.452373  1.996805  4.235268  3.521167  6.541192 -6.296927   \n",
              "88  3.192701  1.463862  7.024253 -0.909646  4.231097 -0.322239  0.220648   \n",
              "89  1.158532 -2.100471 -5.695836 -7.105069 -8.847625 -4.154973 -0.051178   \n",
              "\n",
              "          7         8         9   ...        31        32        33        34  \\\n",
              "0   7.355832 -5.895811  7.412645  ... -2.088118 -3.237229 -9.111274 -2.975623   \n",
              "1  -4.715512  7.181026  5.324803  ... -1.966962 -2.317551 -5.087586 -8.461570   \n",
              "2   5.756481 -4.846245 -4.659386  ...  4.041780  0.009079 -4.495621  1.858310   \n",
              "3   8.242576 -7.243871 -1.415475  ...  8.744534 -4.616066 -1.001683 -5.541479   \n",
              "4  -4.147928  7.062207 -9.509094  ...  1.663742  6.201088 -1.183796  5.972769   \n",
              "..       ...       ...       ...  ...       ...       ...       ...       ...   \n",
              "85  5.556533 -8.370401  1.519773  ...  1.967853  5.452264  2.593139 -4.014488   \n",
              "86  8.351861 -8.233352 -1.912737  ...  5.734733  4.680418 -1.751792  5.122472   \n",
              "87 -3.497831  4.659960  9.462448  ...  1.072152 -0.883754  1.320302 -9.651774   \n",
              "88 -5.432807 -2.224253 -0.943687  ... -7.646037 -1.790462 -5.572639  4.454196   \n",
              "89 -5.282139 -7.818451  8.514283  ...  7.112005  8.128077  3.594775 -6.027524   \n",
              "\n",
              "          35        36        37        38        39          40  \n",
              "0  -6.466834  3.823222  3.354970  1.744347 -0.481423  -65.017167  \n",
              "1  -8.147160 -6.821267 -7.168448  6.735114  5.248277   37.208467  \n",
              "2   4.291430  2.327317 -2.901277 -6.839483 -5.592765   -2.815329  \n",
              "3  -3.880465  4.067701 -0.438473 -0.380028  5.953421    4.662000  \n",
              "4  -1.086281  2.979161  4.692637  5.504212 -6.649273  101.202755  \n",
              "..       ...       ...       ...       ...       ...         ...  \n",
              "85 -6.781636  6.985073 -0.270818  2.812423 -4.553648  112.026645  \n",
              "86  8.179665  7.745321 -5.599037 -7.255634  8.988715   40.473629  \n",
              "87 -4.453403  2.564283 -1.395812  5.234272 -8.691273  -10.449645  \n",
              "88 -7.957459 -2.364598 -3.304631  9.802805  1.774210   -4.961072  \n",
              "89 -5.934477 -4.444812  4.881041 -1.859407 -2.788229  -88.074176  \n",
              "\n",
              "[90 rows x 41 columns]"
            ],
            "text/html": [
              "\n",
              "  <div id=\"df-a43fbd65-f05d-4f0c-ae2e-a3d5c4be8489\" class=\"colab-df-container\">\n",
              "    <div>\n",
              "<style scoped>\n",
              "    .dataframe tbody tr th:only-of-type {\n",
              "        vertical-align: middle;\n",
              "    }\n",
              "\n",
              "    .dataframe tbody tr th {\n",
              "        vertical-align: top;\n",
              "    }\n",
              "\n",
              "    .dataframe thead th {\n",
              "        text-align: right;\n",
              "    }\n",
              "</style>\n",
              "<table border=\"1\" class=\"dataframe\">\n",
              "  <thead>\n",
              "    <tr style=\"text-align: right;\">\n",
              "      <th></th>\n",
              "      <th>0</th>\n",
              "      <th>1</th>\n",
              "      <th>2</th>\n",
              "      <th>3</th>\n",
              "      <th>4</th>\n",
              "      <th>5</th>\n",
              "      <th>6</th>\n",
              "      <th>7</th>\n",
              "      <th>8</th>\n",
              "      <th>9</th>\n",
              "      <th>...</th>\n",
              "      <th>31</th>\n",
              "      <th>32</th>\n",
              "      <th>33</th>\n",
              "      <th>34</th>\n",
              "      <th>35</th>\n",
              "      <th>36</th>\n",
              "      <th>37</th>\n",
              "      <th>38</th>\n",
              "      <th>39</th>\n",
              "      <th>40</th>\n",
              "    </tr>\n",
              "  </thead>\n",
              "  <tbody>\n",
              "    <tr>\n",
              "      <th>0</th>\n",
              "      <td>3.173479</td>\n",
              "      <td>1.767004</td>\n",
              "      <td>7.226653</td>\n",
              "      <td>0.770349</td>\n",
              "      <td>1.067244</td>\n",
              "      <td>-5.048164</td>\n",
              "      <td>-0.123022</td>\n",
              "      <td>7.355832</td>\n",
              "      <td>-5.895811</td>\n",
              "      <td>7.412645</td>\n",
              "      <td>...</td>\n",
              "      <td>-2.088118</td>\n",
              "      <td>-3.237229</td>\n",
              "      <td>-9.111274</td>\n",
              "      <td>-2.975623</td>\n",
              "      <td>-6.466834</td>\n",
              "      <td>3.823222</td>\n",
              "      <td>3.354970</td>\n",
              "      <td>1.744347</td>\n",
              "      <td>-0.481423</td>\n",
              "      <td>-65.017167</td>\n",
              "    </tr>\n",
              "    <tr>\n",
              "      <th>1</th>\n",
              "      <td>8.980292</td>\n",
              "      <td>-6.167326</td>\n",
              "      <td>6.787494</td>\n",
              "      <td>7.523487</td>\n",
              "      <td>7.379223</td>\n",
              "      <td>-4.185759</td>\n",
              "      <td>6.398884</td>\n",
              "      <td>-4.715512</td>\n",
              "      <td>7.181026</td>\n",
              "      <td>5.324803</td>\n",
              "      <td>...</td>\n",
              "      <td>-1.966962</td>\n",
              "      <td>-2.317551</td>\n",
              "      <td>-5.087586</td>\n",
              "      <td>-8.461570</td>\n",
              "      <td>-8.147160</td>\n",
              "      <td>-6.821267</td>\n",
              "      <td>-7.168448</td>\n",
              "      <td>6.735114</td>\n",
              "      <td>5.248277</td>\n",
              "      <td>37.208467</td>\n",
              "    </tr>\n",
              "    <tr>\n",
              "      <th>2</th>\n",
              "      <td>5.906803</td>\n",
              "      <td>9.163825</td>\n",
              "      <td>4.249090</td>\n",
              "      <td>0.133489</td>\n",
              "      <td>2.919417</td>\n",
              "      <td>-1.471712</td>\n",
              "      <td>-7.992025</td>\n",
              "      <td>5.756481</td>\n",
              "      <td>-4.846245</td>\n",
              "      <td>-4.659386</td>\n",
              "      <td>...</td>\n",
              "      <td>4.041780</td>\n",
              "      <td>0.009079</td>\n",
              "      <td>-4.495621</td>\n",
              "      <td>1.858310</td>\n",
              "      <td>4.291430</td>\n",
              "      <td>2.327317</td>\n",
              "      <td>-2.901277</td>\n",
              "      <td>-6.839483</td>\n",
              "      <td>-5.592765</td>\n",
              "      <td>-2.815329</td>\n",
              "    </tr>\n",
              "    <tr>\n",
              "      <th>3</th>\n",
              "      <td>-3.232800</td>\n",
              "      <td>-1.512393</td>\n",
              "      <td>2.100776</td>\n",
              "      <td>-4.827909</td>\n",
              "      <td>3.395942</td>\n",
              "      <td>3.384102</td>\n",
              "      <td>1.102288</td>\n",
              "      <td>8.242576</td>\n",
              "      <td>-7.243871</td>\n",
              "      <td>-1.415475</td>\n",
              "      <td>...</td>\n",
              "      <td>8.744534</td>\n",
              "      <td>-4.616066</td>\n",
              "      <td>-1.001683</td>\n",
              "      <td>-5.541479</td>\n",
              "      <td>-3.880465</td>\n",
              "      <td>4.067701</td>\n",
              "      <td>-0.438473</td>\n",
              "      <td>-0.380028</td>\n",
              "      <td>5.953421</td>\n",
              "      <td>4.662000</td>\n",
              "    </tr>\n",
              "    <tr>\n",
              "      <th>4</th>\n",
              "      <td>-0.699954</td>\n",
              "      <td>-5.617773</td>\n",
              "      <td>9.114431</td>\n",
              "      <td>-6.137757</td>\n",
              "      <td>6.320087</td>\n",
              "      <td>6.645350</td>\n",
              "      <td>4.377769</td>\n",
              "      <td>-4.147928</td>\n",
              "      <td>7.062207</td>\n",
              "      <td>-9.509094</td>\n",
              "      <td>...</td>\n",
              "      <td>1.663742</td>\n",
              "      <td>6.201088</td>\n",
              "      <td>-1.183796</td>\n",
              "      <td>5.972769</td>\n",
              "      <td>-1.086281</td>\n",
              "      <td>2.979161</td>\n",
              "      <td>4.692637</td>\n",
              "      <td>5.504212</td>\n",
              "      <td>-6.649273</td>\n",
              "      <td>101.202755</td>\n",
              "    </tr>\n",
              "    <tr>\n",
              "      <th>...</th>\n",
              "      <td>...</td>\n",
              "      <td>...</td>\n",
              "      <td>...</td>\n",
              "      <td>...</td>\n",
              "      <td>...</td>\n",
              "      <td>...</td>\n",
              "      <td>...</td>\n",
              "      <td>...</td>\n",
              "      <td>...</td>\n",
              "      <td>...</td>\n",
              "      <td>...</td>\n",
              "      <td>...</td>\n",
              "      <td>...</td>\n",
              "      <td>...</td>\n",
              "      <td>...</td>\n",
              "      <td>...</td>\n",
              "      <td>...</td>\n",
              "      <td>...</td>\n",
              "      <td>...</td>\n",
              "      <td>...</td>\n",
              "      <td>...</td>\n",
              "    </tr>\n",
              "    <tr>\n",
              "      <th>85</th>\n",
              "      <td>-6.955974</td>\n",
              "      <td>-9.758575</td>\n",
              "      <td>-6.564500</td>\n",
              "      <td>-5.859472</td>\n",
              "      <td>8.741615</td>\n",
              "      <td>6.962256</td>\n",
              "      <td>1.766424</td>\n",
              "      <td>5.556533</td>\n",
              "      <td>-8.370401</td>\n",
              "      <td>1.519773</td>\n",
              "      <td>...</td>\n",
              "      <td>1.967853</td>\n",
              "      <td>5.452264</td>\n",
              "      <td>2.593139</td>\n",
              "      <td>-4.014488</td>\n",
              "      <td>-6.781636</td>\n",
              "      <td>6.985073</td>\n",
              "      <td>-0.270818</td>\n",
              "      <td>2.812423</td>\n",
              "      <td>-4.553648</td>\n",
              "      <td>112.026645</td>\n",
              "    </tr>\n",
              "    <tr>\n",
              "      <th>86</th>\n",
              "      <td>3.102011</td>\n",
              "      <td>3.458808</td>\n",
              "      <td>-8.111993</td>\n",
              "      <td>9.089385</td>\n",
              "      <td>8.992681</td>\n",
              "      <td>-4.741676</td>\n",
              "      <td>-7.617762</td>\n",
              "      <td>8.351861</td>\n",
              "      <td>-8.233352</td>\n",
              "      <td>-1.912737</td>\n",
              "      <td>...</td>\n",
              "      <td>5.734733</td>\n",
              "      <td>4.680418</td>\n",
              "      <td>-1.751792</td>\n",
              "      <td>5.122472</td>\n",
              "      <td>8.179665</td>\n",
              "      <td>7.745321</td>\n",
              "      <td>-5.599037</td>\n",
              "      <td>-7.255634</td>\n",
              "      <td>8.988715</td>\n",
              "      <td>40.473629</td>\n",
              "    </tr>\n",
              "    <tr>\n",
              "      <th>87</th>\n",
              "      <td>0.528266</td>\n",
              "      <td>-1.452373</td>\n",
              "      <td>1.996805</td>\n",
              "      <td>4.235268</td>\n",
              "      <td>3.521167</td>\n",
              "      <td>6.541192</td>\n",
              "      <td>-6.296927</td>\n",
              "      <td>-3.497831</td>\n",
              "      <td>4.659960</td>\n",
              "      <td>9.462448</td>\n",
              "      <td>...</td>\n",
              "      <td>1.072152</td>\n",
              "      <td>-0.883754</td>\n",
              "      <td>1.320302</td>\n",
              "      <td>-9.651774</td>\n",
              "      <td>-4.453403</td>\n",
              "      <td>2.564283</td>\n",
              "      <td>-1.395812</td>\n",
              "      <td>5.234272</td>\n",
              "      <td>-8.691273</td>\n",
              "      <td>-10.449645</td>\n",
              "    </tr>\n",
              "    <tr>\n",
              "      <th>88</th>\n",
              "      <td>3.192701</td>\n",
              "      <td>1.463862</td>\n",
              "      <td>7.024253</td>\n",
              "      <td>-0.909646</td>\n",
              "      <td>4.231097</td>\n",
              "      <td>-0.322239</td>\n",
              "      <td>0.220648</td>\n",
              "      <td>-5.432807</td>\n",
              "      <td>-2.224253</td>\n",
              "      <td>-0.943687</td>\n",
              "      <td>...</td>\n",
              "      <td>-7.646037</td>\n",
              "      <td>-1.790462</td>\n",
              "      <td>-5.572639</td>\n",
              "      <td>4.454196</td>\n",
              "      <td>-7.957459</td>\n",
              "      <td>-2.364598</td>\n",
              "      <td>-3.304631</td>\n",
              "      <td>9.802805</td>\n",
              "      <td>1.774210</td>\n",
              "      <td>-4.961072</td>\n",
              "    </tr>\n",
              "    <tr>\n",
              "      <th>89</th>\n",
              "      <td>1.158532</td>\n",
              "      <td>-2.100471</td>\n",
              "      <td>-5.695836</td>\n",
              "      <td>-7.105069</td>\n",
              "      <td>-8.847625</td>\n",
              "      <td>-4.154973</td>\n",
              "      <td>-0.051178</td>\n",
              "      <td>-5.282139</td>\n",
              "      <td>-7.818451</td>\n",
              "      <td>8.514283</td>\n",
              "      <td>...</td>\n",
              "      <td>7.112005</td>\n",
              "      <td>8.128077</td>\n",
              "      <td>3.594775</td>\n",
              "      <td>-6.027524</td>\n",
              "      <td>-5.934477</td>\n",
              "      <td>-4.444812</td>\n",
              "      <td>4.881041</td>\n",
              "      <td>-1.859407</td>\n",
              "      <td>-2.788229</td>\n",
              "      <td>-88.074176</td>\n",
              "    </tr>\n",
              "  </tbody>\n",
              "</table>\n",
              "<p>90 rows × 41 columns</p>\n",
              "</div>\n",
              "    <div class=\"colab-df-buttons\">\n",
              "\n",
              "  <div class=\"colab-df-container\">\n",
              "    <button class=\"colab-df-convert\" onclick=\"convertToInteractive('df-a43fbd65-f05d-4f0c-ae2e-a3d5c4be8489')\"\n",
              "            title=\"Convert this dataframe to an interactive table.\"\n",
              "            style=\"display:none;\">\n",
              "\n",
              "  <svg xmlns=\"http://www.w3.org/2000/svg\" height=\"24px\" viewBox=\"0 -960 960 960\">\n",
              "    <path d=\"M120-120v-720h720v720H120Zm60-500h600v-160H180v160Zm220 220h160v-160H400v160Zm0 220h160v-160H400v160ZM180-400h160v-160H180v160Zm440 0h160v-160H620v160ZM180-180h160v-160H180v160Zm440 0h160v-160H620v160Z\"/>\n",
              "  </svg>\n",
              "    </button>\n",
              "\n",
              "  <style>\n",
              "    .colab-df-container {\n",
              "      display:flex;\n",
              "      gap: 12px;\n",
              "    }\n",
              "\n",
              "    .colab-df-convert {\n",
              "      background-color: #E8F0FE;\n",
              "      border: none;\n",
              "      border-radius: 50%;\n",
              "      cursor: pointer;\n",
              "      display: none;\n",
              "      fill: #1967D2;\n",
              "      height: 32px;\n",
              "      padding: 0 0 0 0;\n",
              "      width: 32px;\n",
              "    }\n",
              "\n",
              "    .colab-df-convert:hover {\n",
              "      background-color: #E2EBFA;\n",
              "      box-shadow: 0px 1px 2px rgba(60, 64, 67, 0.3), 0px 1px 3px 1px rgba(60, 64, 67, 0.15);\n",
              "      fill: #174EA6;\n",
              "    }\n",
              "\n",
              "    .colab-df-buttons div {\n",
              "      margin-bottom: 4px;\n",
              "    }\n",
              "\n",
              "    [theme=dark] .colab-df-convert {\n",
              "      background-color: #3B4455;\n",
              "      fill: #D2E3FC;\n",
              "    }\n",
              "\n",
              "    [theme=dark] .colab-df-convert:hover {\n",
              "      background-color: #434B5C;\n",
              "      box-shadow: 0px 1px 3px 1px rgba(0, 0, 0, 0.15);\n",
              "      filter: drop-shadow(0px 1px 2px rgba(0, 0, 0, 0.3));\n",
              "      fill: #FFFFFF;\n",
              "    }\n",
              "  </style>\n",
              "\n",
              "    <script>\n",
              "      const buttonEl =\n",
              "        document.querySelector('#df-a43fbd65-f05d-4f0c-ae2e-a3d5c4be8489 button.colab-df-convert');\n",
              "      buttonEl.style.display =\n",
              "        google.colab.kernel.accessAllowed ? 'block' : 'none';\n",
              "\n",
              "      async function convertToInteractive(key) {\n",
              "        const element = document.querySelector('#df-a43fbd65-f05d-4f0c-ae2e-a3d5c4be8489');\n",
              "        const dataTable =\n",
              "          await google.colab.kernel.invokeFunction('convertToInteractive',\n",
              "                                                    [key], {});\n",
              "        if (!dataTable) return;\n",
              "\n",
              "        const docLinkHtml = 'Like what you see? Visit the ' +\n",
              "          '<a target=\"_blank\" href=https://colab.research.google.com/notebooks/data_table.ipynb>data table notebook</a>'\n",
              "          + ' to learn more about interactive tables.';\n",
              "        element.innerHTML = '';\n",
              "        dataTable['output_type'] = 'display_data';\n",
              "        await google.colab.output.renderOutput(dataTable, element);\n",
              "        const docLink = document.createElement('div');\n",
              "        docLink.innerHTML = docLinkHtml;\n",
              "        element.appendChild(docLink);\n",
              "      }\n",
              "    </script>\n",
              "  </div>\n",
              "\n",
              "\n",
              "<div id=\"df-71681f6b-1efd-4495-9d45-ded9f44cbe92\">\n",
              "  <button class=\"colab-df-quickchart\" onclick=\"quickchart('df-71681f6b-1efd-4495-9d45-ded9f44cbe92')\"\n",
              "            title=\"Suggest charts\"\n",
              "            style=\"display:none;\">\n",
              "\n",
              "<svg xmlns=\"http://www.w3.org/2000/svg\" height=\"24px\"viewBox=\"0 0 24 24\"\n",
              "     width=\"24px\">\n",
              "    <g>\n",
              "        <path d=\"M19 3H5c-1.1 0-2 .9-2 2v14c0 1.1.9 2 2 2h14c1.1 0 2-.9 2-2V5c0-1.1-.9-2-2-2zM9 17H7v-7h2v7zm4 0h-2V7h2v10zm4 0h-2v-4h2v4z\"/>\n",
              "    </g>\n",
              "</svg>\n",
              "  </button>\n",
              "\n",
              "<style>\n",
              "  .colab-df-quickchart {\n",
              "      --bg-color: #E8F0FE;\n",
              "      --fill-color: #1967D2;\n",
              "      --hover-bg-color: #E2EBFA;\n",
              "      --hover-fill-color: #174EA6;\n",
              "      --disabled-fill-color: #AAA;\n",
              "      --disabled-bg-color: #DDD;\n",
              "  }\n",
              "\n",
              "  [theme=dark] .colab-df-quickchart {\n",
              "      --bg-color: #3B4455;\n",
              "      --fill-color: #D2E3FC;\n",
              "      --hover-bg-color: #434B5C;\n",
              "      --hover-fill-color: #FFFFFF;\n",
              "      --disabled-bg-color: #3B4455;\n",
              "      --disabled-fill-color: #666;\n",
              "  }\n",
              "\n",
              "  .colab-df-quickchart {\n",
              "    background-color: var(--bg-color);\n",
              "    border: none;\n",
              "    border-radius: 50%;\n",
              "    cursor: pointer;\n",
              "    display: none;\n",
              "    fill: var(--fill-color);\n",
              "    height: 32px;\n",
              "    padding: 0;\n",
              "    width: 32px;\n",
              "  }\n",
              "\n",
              "  .colab-df-quickchart:hover {\n",
              "    background-color: var(--hover-bg-color);\n",
              "    box-shadow: 0 1px 2px rgba(60, 64, 67, 0.3), 0 1px 3px 1px rgba(60, 64, 67, 0.15);\n",
              "    fill: var(--button-hover-fill-color);\n",
              "  }\n",
              "\n",
              "  .colab-df-quickchart-complete:disabled,\n",
              "  .colab-df-quickchart-complete:disabled:hover {\n",
              "    background-color: var(--disabled-bg-color);\n",
              "    fill: var(--disabled-fill-color);\n",
              "    box-shadow: none;\n",
              "  }\n",
              "\n",
              "  .colab-df-spinner {\n",
              "    border: 2px solid var(--fill-color);\n",
              "    border-color: transparent;\n",
              "    border-bottom-color: var(--fill-color);\n",
              "    animation:\n",
              "      spin 1s steps(1) infinite;\n",
              "  }\n",
              "\n",
              "  @keyframes spin {\n",
              "    0% {\n",
              "      border-color: transparent;\n",
              "      border-bottom-color: var(--fill-color);\n",
              "      border-left-color: var(--fill-color);\n",
              "    }\n",
              "    20% {\n",
              "      border-color: transparent;\n",
              "      border-left-color: var(--fill-color);\n",
              "      border-top-color: var(--fill-color);\n",
              "    }\n",
              "    30% {\n",
              "      border-color: transparent;\n",
              "      border-left-color: var(--fill-color);\n",
              "      border-top-color: var(--fill-color);\n",
              "      border-right-color: var(--fill-color);\n",
              "    }\n",
              "    40% {\n",
              "      border-color: transparent;\n",
              "      border-right-color: var(--fill-color);\n",
              "      border-top-color: var(--fill-color);\n",
              "    }\n",
              "    60% {\n",
              "      border-color: transparent;\n",
              "      border-right-color: var(--fill-color);\n",
              "    }\n",
              "    80% {\n",
              "      border-color: transparent;\n",
              "      border-right-color: var(--fill-color);\n",
              "      border-bottom-color: var(--fill-color);\n",
              "    }\n",
              "    90% {\n",
              "      border-color: transparent;\n",
              "      border-bottom-color: var(--fill-color);\n",
              "    }\n",
              "  }\n",
              "</style>\n",
              "\n",
              "  <script>\n",
              "    async function quickchart(key) {\n",
              "      const quickchartButtonEl =\n",
              "        document.querySelector('#' + key + ' button');\n",
              "      quickchartButtonEl.disabled = true;  // To prevent multiple clicks.\n",
              "      quickchartButtonEl.classList.add('colab-df-spinner');\n",
              "      try {\n",
              "        const charts = await google.colab.kernel.invokeFunction(\n",
              "            'suggestCharts', [key], {});\n",
              "      } catch (error) {\n",
              "        console.error('Error during call to suggestCharts:', error);\n",
              "      }\n",
              "      quickchartButtonEl.classList.remove('colab-df-spinner');\n",
              "      quickchartButtonEl.classList.add('colab-df-quickchart-complete');\n",
              "    }\n",
              "    (() => {\n",
              "      let quickchartButtonEl =\n",
              "        document.querySelector('#df-71681f6b-1efd-4495-9d45-ded9f44cbe92 button');\n",
              "      quickchartButtonEl.style.display =\n",
              "        google.colab.kernel.accessAllowed ? 'block' : 'none';\n",
              "    })();\n",
              "  </script>\n",
              "</div>\n",
              "    </div>\n",
              "  </div>\n"
            ],
            "application/vnd.google.colaboratory.intrinsic+json": {
              "type": "dataframe"
            }
          },
          "metadata": {},
          "execution_count": 7
        }
      ],
      "source": [
        "X_good = np.random.uniform(-10, 10, size=(90, n_good_features))\n",
        "X_bad = np.random.uniform(-10, 10, size=(90, n_bad_features))\n",
        "y = f(X_good)\n",
        "X = np.hstack([X_good, X_bad])\n",
        "df = pd.DataFrame(np.hstack([X_good, X_bad]))\n",
        "pd.DataFrame(np.hstack([df, y.reshape(-1, 1)]))"
      ]
    },
    {
      "cell_type": "code",
      "execution_count": null,
      "metadata": {
        "colab": {
          "base_uri": "https://localhost:8080/"
        },
        "id": "LCzSedQrDHU2",
        "outputId": "cb1915ed-94f6-4153-d942-8d42c764bfca"
      },
      "outputs": [
        {
          "output_type": "execute_result",
          "data": {
            "text/plain": [
              "((60, 40), (30, 40), (60,), (30,))"
            ]
          },
          "metadata": {},
          "execution_count": 8
        }
      ],
      "source": [
        "X_train, X_test, y_train, y_test = train_test_split(X, y, train_size=0.67)\n",
        "X_train.shape, X_test.shape, y_train.shape, y_test.shape"
      ]
    },
    {
      "cell_type": "code",
      "execution_count": null,
      "metadata": {
        "colab": {
          "base_uri": "https://localhost:8080/"
        },
        "id": "XVazrXwADJOq",
        "outputId": "35f1cf29-be12-4360-ccfb-5ba8a67be0ef"
      },
      "outputs": [
        {
          "output_type": "execute_result",
          "data": {
            "text/plain": [
              "((30, 40), (30, 40), (30,), (30,))"
            ]
          },
          "metadata": {},
          "execution_count": 9
        }
      ],
      "source": [
        "X_train, X_valid, y_train, y_valid = train_test_split(X_train, y_train, train_size=0.5)\n",
        "X_train.shape, X_valid.shape, y_train.shape, y_valid.shape"
      ]
    },
    {
      "cell_type": "markdown",
      "metadata": {
        "id": "Sbrua429TPmd"
      },
      "source": []
    },
    {
      "cell_type": "code",
      "execution_count": null,
      "metadata": {
        "colab": {
          "base_uri": "https://localhost:8080/"
        },
        "id": "DT9SzYARDKfa",
        "outputId": "fd8dfcdf-a03d-447f-f465-9b8123ab7faf"
      },
      "outputs": [
        {
          "output_type": "execute_result",
          "data": {
            "text/plain": [
              "(0.44, 0.6730673309789428)"
            ]
          },
          "metadata": {},
          "execution_count": 10
        }
      ],
      "source": [
        "regression = VPK(tau=0.8)\n",
        "regression.fit(X_train, y_train, X_valid, y_valid)\n",
        "y_pred_test = regression.predict(X_test)\n",
        "round(r2_score(y_test, y_pred_test), 2), np.corrcoef(y_test, y_pred_test)[0][1]"
      ]
    },
    {
      "cell_type": "code",
      "execution_count": null,
      "metadata": {
        "colab": {
          "base_uri": "https://localhost:8080/"
        },
        "id": "XRY23g8KDVi5",
        "outputId": "5e93ccef-c5d9-4335-ca00-4ba0846e244f"
      },
      "outputs": [
        {
          "output_type": "stream",
          "name": "stderr",
          "text": [
            "/usr/local/lib/python3.10/dist-packages/numpy/lib/function_base.py:2897: RuntimeWarning: invalid value encountered in divide\n",
            "  c /= stddev[:, None]\n",
            "/usr/local/lib/python3.10/dist-packages/numpy/lib/function_base.py:2898: RuntimeWarning: invalid value encountered in divide\n",
            "  c /= stddev[None, :]\n"
          ]
        },
        {
          "output_type": "execute_result",
          "data": {
            "text/plain": [
              "(0.45, 0.6811077984098866)"
            ]
          },
          "metadata": {},
          "execution_count": 11
        }
      ],
      "source": [
        "np.random.seed(1)\n",
        "regression = ModifiedConvexRegression(num_epochs=int(n_features))\n",
        "regression.fit(X_train, y_train, X_valid, y_valid)\n",
        "y_pred_test = regression.predict(X_test)\n",
        "round(r2_score(y_test, y_pred_test), 2), np.corrcoef(y_test, regression.feature_test)[0][1]"
      ]
    },
    {
      "cell_type": "code",
      "execution_count": null,
      "metadata": {
        "colab": {
          "base_uri": "https://localhost:8080/"
        },
        "id": "aVysW8iZEalA",
        "outputId": "d4a12c79-2b22-4c1a-cf35-7443f6a32cd7"
      },
      "outputs": [
        {
          "output_type": "execute_result",
          "data": {
            "text/plain": [
              "(-0.86, 0.1575289871918416)"
            ]
          },
          "metadata": {},
          "execution_count": 12
        }
      ],
      "source": [
        "regression = LinearRegression()\n",
        "regression.fit(X_train, y_train)\n",
        "y_pred_test = regression.predict(X_test)\n",
        "round(r2_score(y_test, y_pred_test), 2), np.corrcoef(y_test, y_pred_test)[0][1]"
      ]
    },
    {
      "cell_type": "code",
      "execution_count": null,
      "metadata": {
        "colab": {
          "base_uri": "https://localhost:8080/"
        },
        "id": "mwSa9ZToHXYy",
        "outputId": "3036df8b-121a-4783-c82c-440685b55717"
      },
      "outputs": [
        {
          "output_type": "execute_result",
          "data": {
            "text/plain": [
              "(-0.68, 0.15644990827380065)"
            ]
          },
          "metadata": {},
          "execution_count": 13
        }
      ],
      "source": [
        "regression = ElasticNet()\n",
        "regression.fit(X_train, y_train)\n",
        "y_pred_test = regression.predict(X_test)\n",
        "round(r2_score(y_test, y_pred_test), 2), np.corrcoef(y_test, y_pred_test)[0][1]"
      ]
    },
    {
      "cell_type": "code",
      "execution_count": null,
      "metadata": {
        "colab": {
          "base_uri": "https://localhost:8080/"
        },
        "id": "nEOegHhOHbUw",
        "outputId": "1dd3b4de-6076-4a77-c811-f98af45c45ef"
      },
      "outputs": [
        {
          "output_type": "execute_result",
          "data": {
            "text/plain": [
              "(-0.63, 0.19552681334424787)"
            ]
          },
          "metadata": {},
          "execution_count": 14
        }
      ],
      "source": [
        "regression = Lasso()\n",
        "regression.fit(X_train, y_train)\n",
        "y_pred_test = regression.predict(X_test)\n",
        "round(r2_score(y_test, y_pred_test), 2), np.corrcoef(y_test, y_pred_test)[0][1]"
      ]
    },
    {
      "cell_type": "code",
      "execution_count": null,
      "metadata": {
        "colab": {
          "base_uri": "https://localhost:8080/"
        },
        "id": "bqMPEs8NHeXA",
        "outputId": "649ffe23-5fe1-4dbb-99a9-301c23693f22"
      },
      "outputs": [
        {
          "output_type": "execute_result",
          "data": {
            "text/plain": [
              "(-0.85, 0.1578029997426788)"
            ]
          },
          "metadata": {},
          "execution_count": 15
        }
      ],
      "source": [
        "regression = Ridge()\n",
        "regression.fit(X_train, y_train)\n",
        "y_pred_test = regression.predict(X_test)\n",
        "round(r2_score(y_test, y_pred_test), 2), np.corrcoef(y_test, y_pred_test)[0][1]"
      ]
    },
    {
      "cell_type": "markdown",
      "metadata": {
        "id": "f4DpMJRwaUIL"
      },
      "source": [
        "# Эксперимент 1. Измерение времени"
      ]
    },
    {
      "cell_type": "markdown",
      "metadata": {
        "id": "Gh3yp6Y3azx9"
      },
      "source": [
        "(5, 25)"
      ]
    },
    {
      "cell_type": "code",
      "execution_count": null,
      "metadata": {
        "id": "lIbaLoJTbgCw"
      },
      "outputs": [],
      "source": [
        "X_train, y_train, X_valid, y_valid, X_test, y_test = generate_data(5, 25, seed=1)\n",
        "num_features = X_train.shape[1]"
      ]
    },
    {
      "cell_type": "code",
      "execution_count": null,
      "metadata": {
        "colab": {
          "base_uri": "https://localhost:8080/"
        },
        "id": "G5k45wdNadlr",
        "outputId": "93334a9e-5e61-41d8-c21c-64875bc3324f"
      },
      "outputs": [
        {
          "output_type": "stream",
          "name": "stdout",
          "text": [
            "1.98\n"
          ]
        }
      ],
      "source": [
        "# VPK\n",
        "t_1 = time.time()\n",
        "vpk = VPK(tau=0.9)\n",
        "vpk.fit(X_train, y_train, X_valid, y_valid)\n",
        "y_pred = vpk.predict(X_test)\n",
        "t_2 = time.time()\n",
        "print(round(t_2 - t_1, 2))"
      ]
    },
    {
      "cell_type": "code",
      "execution_count": null,
      "metadata": {
        "colab": {
          "base_uri": "https://localhost:8080/"
        },
        "id": "0fkEc_UcbRRo",
        "outputId": "5eb5db9d-0b73-48c2-9a0f-b8c0b7e1393e"
      },
      "outputs": [
        {
          "output_type": "stream",
          "name": "stdout",
          "text": [
            "11.96\n"
          ]
        },
        {
          "output_type": "stream",
          "name": "stderr",
          "text": [
            "/usr/local/lib/python3.10/dist-packages/numpy/lib/function_base.py:2897: RuntimeWarning: invalid value encountered in divide\n",
            "  c /= stddev[:, None]\n",
            "/usr/local/lib/python3.10/dist-packages/numpy/lib/function_base.py:2898: RuntimeWarning: invalid value encountered in divide\n",
            "  c /= stddev[None, :]\n"
          ]
        }
      ],
      "source": [
        "# MCR\n",
        "np.random.seed(1)\n",
        "t_1 = time.time()\n",
        "mcr = ModifiedConvexRegression(num_features)\n",
        "mcr.fit(X_train, y_train, X_valid, y_valid)\n",
        "y_pred = mcr.predict(X_test)\n",
        "t_2 = time.time()\n",
        "print(round(t_2 - t_1, 2))"
      ]
    },
    {
      "cell_type": "markdown",
      "metadata": {
        "id": "t8MK9hU_cT5T"
      },
      "source": [
        "(5, 30)"
      ]
    },
    {
      "cell_type": "code",
      "execution_count": null,
      "metadata": {
        "id": "TXbnguDZcW0o"
      },
      "outputs": [],
      "source": [
        "X_train, y_train, X_valid, y_valid, X_test, y_test = generate_data(5, 30, seed=1)\n",
        "num_features = X_train.shape[1]"
      ]
    },
    {
      "cell_type": "code",
      "execution_count": null,
      "metadata": {
        "colab": {
          "base_uri": "https://localhost:8080/"
        },
        "id": "rNbOHcsacYiG",
        "outputId": "ec6e7764-e204-4f39-82cb-5c0dbc523158"
      },
      "outputs": [
        {
          "output_type": "stream",
          "name": "stdout",
          "text": [
            "2.05\n"
          ]
        }
      ],
      "source": [
        "# VPK\n",
        "t_1 = time.time()\n",
        "vpk = VPK(tau=0.9)\n",
        "vpk.fit(X_train, y_train, X_valid, y_valid)\n",
        "y_pred = vpk.predict(X_test)\n",
        "t_2 = time.time()\n",
        "print(round(t_2 - t_1, 2))"
      ]
    },
    {
      "cell_type": "code",
      "execution_count": null,
      "metadata": {
        "colab": {
          "base_uri": "https://localhost:8080/"
        },
        "id": "9rcyEdK2cYlv",
        "outputId": "0056937f-6b80-4839-838e-f58cb5ea55a6"
      },
      "outputs": [
        {
          "output_type": "stream",
          "name": "stdout",
          "text": [
            "17.63\n"
          ]
        },
        {
          "output_type": "stream",
          "name": "stderr",
          "text": [
            "/usr/local/lib/python3.10/dist-packages/numpy/lib/function_base.py:2897: RuntimeWarning: invalid value encountered in divide\n",
            "  c /= stddev[:, None]\n",
            "/usr/local/lib/python3.10/dist-packages/numpy/lib/function_base.py:2898: RuntimeWarning: invalid value encountered in divide\n",
            "  c /= stddev[None, :]\n"
          ]
        }
      ],
      "source": [
        "# MCR\n",
        "np.random.seed(1)\n",
        "t_1 = time.time()\n",
        "mcr = ModifiedConvexRegression(num_features)\n",
        "mcr.fit(X_train, y_train, X_valid, y_valid)\n",
        "y_pred = mcr.predict(X_test)\n",
        "t_2 = time.time()\n",
        "print(round(t_2 - t_1, 2))"
      ]
    },
    {
      "cell_type": "markdown",
      "metadata": {
        "id": "jSA_8yskcj_E"
      },
      "source": [
        "(5, 35)"
      ]
    },
    {
      "cell_type": "code",
      "execution_count": null,
      "metadata": {
        "id": "Ms1qAX6ecnLK"
      },
      "outputs": [],
      "source": [
        "X_train, y_train, X_valid, y_valid, X_test, y_test = generate_data(5, 35, seed=1)\n",
        "num_features = X_train.shape[1]"
      ]
    },
    {
      "cell_type": "code",
      "execution_count": null,
      "metadata": {
        "colab": {
          "base_uri": "https://localhost:8080/"
        },
        "id": "IUx6Hw6TcnQ3",
        "outputId": "e6b65bdc-542d-4235-ae5d-fdea428a3531"
      },
      "outputs": [
        {
          "output_type": "stream",
          "name": "stdout",
          "text": [
            "5.3\n"
          ]
        }
      ],
      "source": [
        "# VPK\n",
        "t_1 = time.time()\n",
        "vpk = VPK(tau=0.9)\n",
        "vpk.fit(X_train, y_train, X_valid, y_valid)\n",
        "y_pred = vpk.predict(X_test)\n",
        "t_2 = time.time()\n",
        "print(round(t_2 - t_1, 2))"
      ]
    },
    {
      "cell_type": "code",
      "execution_count": null,
      "metadata": {
        "colab": {
          "base_uri": "https://localhost:8080/"
        },
        "id": "0AVZH4IWcnbC",
        "outputId": "9960f968-341a-49bf-cd53-17dfec429474"
      },
      "outputs": [
        {
          "output_type": "stream",
          "name": "stdout",
          "text": [
            "21.64\n"
          ]
        },
        {
          "output_type": "stream",
          "name": "stderr",
          "text": [
            "/usr/local/lib/python3.10/dist-packages/numpy/lib/function_base.py:2897: RuntimeWarning: invalid value encountered in divide\n",
            "  c /= stddev[:, None]\n",
            "/usr/local/lib/python3.10/dist-packages/numpy/lib/function_base.py:2898: RuntimeWarning: invalid value encountered in divide\n",
            "  c /= stddev[None, :]\n"
          ]
        }
      ],
      "source": [
        "# MCR\n",
        "np.random.seed(1)\n",
        "t_1 = time.time()\n",
        "mcr = ModifiedConvexRegression(num_features)\n",
        "mcr.fit(X_train, y_train, X_valid, y_valid)\n",
        "y_pred = mcr.predict(X_test)\n",
        "t_2 = time.time()\n",
        "print(round(t_2 - t_1, 2))"
      ]
    },
    {
      "cell_type": "markdown",
      "metadata": {
        "id": "R9DAGvhlcuQs"
      },
      "source": [
        "(5, 40)"
      ]
    },
    {
      "cell_type": "code",
      "execution_count": null,
      "metadata": {
        "id": "3Dm0CeguczYY"
      },
      "outputs": [],
      "source": [
        "X_train, y_train, X_valid, y_valid, X_test, y_test = generate_data(5, 40, seed=1)\n",
        "num_features = X_train.shape[1]"
      ]
    },
    {
      "cell_type": "code",
      "execution_count": null,
      "metadata": {
        "colab": {
          "base_uri": "https://localhost:8080/"
        },
        "id": "omomOmMIczcb",
        "outputId": "a39d60e7-7d56-4c1e-e8e1-52850971c81d"
      },
      "outputs": [
        {
          "output_type": "stream",
          "name": "stdout",
          "text": [
            "11.51\n"
          ]
        }
      ],
      "source": [
        "# VPK\n",
        "t_1 = time.time()\n",
        "vpk = VPK(tau=0.9)\n",
        "vpk.fit(X_train, y_train, X_valid, y_valid)\n",
        "y_pred = vpk.predict(X_test)\n",
        "t_2 = time.time()\n",
        "print(round(t_2 - t_1, 2))"
      ]
    },
    {
      "cell_type": "code",
      "execution_count": null,
      "metadata": {
        "colab": {
          "base_uri": "https://localhost:8080/"
        },
        "id": "q3XwGVqlczhD",
        "outputId": "25ca116a-778f-46bb-bac1-381661c9bd98"
      },
      "outputs": [
        {
          "output_type": "stream",
          "name": "stdout",
          "text": [
            "28.8\n"
          ]
        },
        {
          "output_type": "stream",
          "name": "stderr",
          "text": [
            "/usr/local/lib/python3.10/dist-packages/numpy/lib/function_base.py:2897: RuntimeWarning: invalid value encountered in divide\n",
            "  c /= stddev[:, None]\n",
            "/usr/local/lib/python3.10/dist-packages/numpy/lib/function_base.py:2898: RuntimeWarning: invalid value encountered in divide\n",
            "  c /= stddev[None, :]\n"
          ]
        }
      ],
      "source": [
        "# MCR\n",
        "np.random.seed(1)\n",
        "t_1 = time.time()\n",
        "mcr = ModifiedConvexRegression(num_features)\n",
        "mcr.fit(X_train, y_train, X_valid, y_valid)\n",
        "y_pred = mcr.predict(X_test)\n",
        "t_2 = time.time()\n",
        "print(round(t_2 - t_1, 2))"
      ]
    },
    {
      "cell_type": "markdown",
      "metadata": {
        "id": "c54cADeLc7M9"
      },
      "source": [
        "(5, 45)"
      ]
    },
    {
      "cell_type": "code",
      "execution_count": null,
      "metadata": {
        "id": "8iSPqadyc9K4"
      },
      "outputs": [],
      "source": [
        "X_train, y_train, X_valid, y_valid, X_test, y_test = generate_data(5, 45, seed=1)\n",
        "num_features = X_train.shape[1]"
      ]
    },
    {
      "cell_type": "code",
      "execution_count": null,
      "metadata": {
        "colab": {
          "base_uri": "https://localhost:8080/",
          "height": 373
        },
        "id": "REasum4uc9Q4",
        "outputId": "71668cb8-3bcf-4f55-b8b9-4229fc64362a"
      },
      "outputs": [
        {
          "output_type": "error",
          "ename": "KeyboardInterrupt",
          "evalue": "",
          "traceback": [
            "\u001b[0;31m---------------------------------------------------------------------------\u001b[0m",
            "\u001b[0;31mKeyboardInterrupt\u001b[0m                         Traceback (most recent call last)",
            "\u001b[0;32m<ipython-input-29-e04540c265d5>\u001b[0m in \u001b[0;36m<cell line: 4>\u001b[0;34m()\u001b[0m\n\u001b[1;32m      2\u001b[0m \u001b[0mt_1\u001b[0m \u001b[0;34m=\u001b[0m \u001b[0mtime\u001b[0m\u001b[0;34m.\u001b[0m\u001b[0mtime\u001b[0m\u001b[0;34m(\u001b[0m\u001b[0;34m)\u001b[0m\u001b[0;34m\u001b[0m\u001b[0;34m\u001b[0m\u001b[0m\n\u001b[1;32m      3\u001b[0m \u001b[0mvpk\u001b[0m \u001b[0;34m=\u001b[0m \u001b[0mVPK\u001b[0m\u001b[0;34m(\u001b[0m\u001b[0mtau\u001b[0m\u001b[0;34m=\u001b[0m\u001b[0;36m0.9\u001b[0m\u001b[0;34m)\u001b[0m\u001b[0;34m\u001b[0m\u001b[0;34m\u001b[0m\u001b[0m\n\u001b[0;32m----> 4\u001b[0;31m \u001b[0mvpk\u001b[0m\u001b[0;34m.\u001b[0m\u001b[0mfit\u001b[0m\u001b[0;34m(\u001b[0m\u001b[0mX_train\u001b[0m\u001b[0;34m,\u001b[0m \u001b[0my_train\u001b[0m\u001b[0;34m,\u001b[0m \u001b[0mX_valid\u001b[0m\u001b[0;34m,\u001b[0m \u001b[0my_valid\u001b[0m\u001b[0;34m)\u001b[0m\u001b[0;34m\u001b[0m\u001b[0;34m\u001b[0m\u001b[0m\n\u001b[0m\u001b[1;32m      5\u001b[0m \u001b[0my_pred\u001b[0m \u001b[0;34m=\u001b[0m \u001b[0mvpk\u001b[0m\u001b[0;34m.\u001b[0m\u001b[0mpredict\u001b[0m\u001b[0;34m(\u001b[0m\u001b[0mX_test\u001b[0m\u001b[0;34m)\u001b[0m\u001b[0;34m\u001b[0m\u001b[0;34m\u001b[0m\u001b[0m\n\u001b[1;32m      6\u001b[0m \u001b[0mt_2\u001b[0m \u001b[0;34m=\u001b[0m \u001b[0mtime\u001b[0m\u001b[0;34m.\u001b[0m\u001b[0mtime\u001b[0m\u001b[0;34m(\u001b[0m\u001b[0;34m)\u001b[0m\u001b[0;34m\u001b[0m\u001b[0;34m\u001b[0m\u001b[0m\n",
            "\u001b[0;32m<ipython-input-2-e974263f0896>\u001b[0m in \u001b[0;36mfit\u001b[0;34m(self, X_train, y_train, X_valid, y_valid)\u001b[0m\n\u001b[1;32m    163\u001b[0m         \u001b[0mself\u001b[0m\u001b[0;34m.\u001b[0m\u001b[0m_get_dists\u001b[0m\u001b[0;34m(\u001b[0m\u001b[0mX_valid\u001b[0m\u001b[0;34m)\u001b[0m\u001b[0;34m\u001b[0m\u001b[0;34m\u001b[0m\u001b[0m\n\u001b[1;32m    164\u001b[0m         \u001b[0mself\u001b[0m\u001b[0;34m.\u001b[0m\u001b[0m_get_thetas\u001b[0m\u001b[0;34m(\u001b[0m\u001b[0my_valid\u001b[0m\u001b[0;34m)\u001b[0m\u001b[0;34m\u001b[0m\u001b[0;34m\u001b[0m\u001b[0m\n\u001b[0;32m--> 165\u001b[0;31m         \u001b[0mself\u001b[0m\u001b[0;34m.\u001b[0m\u001b[0m_start\u001b[0m\u001b[0;34m(\u001b[0m\u001b[0;34m)\u001b[0m\u001b[0;34m\u001b[0m\u001b[0;34m\u001b[0m\u001b[0m\n\u001b[0m\u001b[1;32m    166\u001b[0m         \u001b[0mself\u001b[0m\u001b[0;34m.\u001b[0m\u001b[0m_get_cor_coefs\u001b[0m\u001b[0;34m(\u001b[0m\u001b[0mX_valid\u001b[0m\u001b[0;34m,\u001b[0m \u001b[0my_valid\u001b[0m\u001b[0;34m)\u001b[0m\u001b[0;34m\u001b[0m\u001b[0;34m\u001b[0m\u001b[0m\n\u001b[1;32m    167\u001b[0m         \u001b[0my_train_preds\u001b[0m \u001b[0;34m=\u001b[0m \u001b[0mself\u001b[0m\u001b[0;34m.\u001b[0m\u001b[0m_predict_without_head\u001b[0m\u001b[0;34m(\u001b[0m\u001b[0mX_train\u001b[0m\u001b[0;34m)\u001b[0m\u001b[0;34m\u001b[0m\u001b[0;34m\u001b[0m\u001b[0m\n",
            "\u001b[0;32m<ipython-input-2-e974263f0896>\u001b[0m in \u001b[0;36m_start\u001b[0;34m(self)\u001b[0m\n\u001b[1;32m    142\u001b[0m                     \u001b[0mlist_three\u001b[0m \u001b[0;34m=\u001b[0m \u001b[0mlist_pair\u001b[0m\u001b[0;34m.\u001b[0m\u001b[0mcopy\u001b[0m\u001b[0;34m(\u001b[0m\u001b[0;34m)\u001b[0m\u001b[0;34m\u001b[0m\u001b[0;34m\u001b[0m\u001b[0m\n\u001b[1;32m    143\u001b[0m                     \u001b[0mlist_three\u001b[0m\u001b[0;34m.\u001b[0m\u001b[0mappend\u001b[0m\u001b[0;34m(\u001b[0m\u001b[0mnew_index\u001b[0m\u001b[0;34m)\u001b[0m\u001b[0;34m\u001b[0m\u001b[0;34m\u001b[0m\u001b[0m\n\u001b[0;32m--> 144\u001b[0;31m                     \u001b[0mself\u001b[0m\u001b[0;34m.\u001b[0m\u001b[0mcreate_ensemble\u001b[0m\u001b[0;34m(\u001b[0m\u001b[0mlist_three\u001b[0m\u001b[0;34m,\u001b[0m \u001b[0mself\u001b[0m\u001b[0;34m.\u001b[0m\u001b[0mvars\u001b[0m\u001b[0;34m,\u001b[0m \u001b[0mself\u001b[0m\u001b[0;34m.\u001b[0m\u001b[0mdists\u001b[0m\u001b[0;34m)\u001b[0m\u001b[0;34m\u001b[0m\u001b[0;34m\u001b[0m\u001b[0m\n\u001b[0m\u001b[1;32m    145\u001b[0m \u001b[0;34m\u001b[0m\u001b[0m\n\u001b[1;32m    146\u001b[0m                 \u001b[0ms\u001b[0m\u001b[0;34m.\u001b[0m\u001b[0madd\u001b[0m\u001b[0;34m(\u001b[0m\u001b[0mtuple\u001b[0m\u001b[0;34m(\u001b[0m\u001b[0mlist\u001b[0m\u001b[0;34m(\u001b[0m\u001b[0mpair\u001b[0m\u001b[0;34m)\u001b[0m\u001b[0;34m)\u001b[0m\u001b[0;34m)\u001b[0m\u001b[0;34m\u001b[0m\u001b[0;34m\u001b[0m\u001b[0m\n",
            "\u001b[0;32m<ipython-input-2-e974263f0896>\u001b[0m in \u001b[0;36mcreate_ensemble\u001b[0;34m(self, ensemble, vars, dists)\u001b[0m\n\u001b[1;32m    127\u001b[0m                 \u001b[0mnew_ensemble\u001b[0m \u001b[0;34m=\u001b[0m \u001b[0mensemble\u001b[0m\u001b[0;34m.\u001b[0m\u001b[0mcopy\u001b[0m\u001b[0;34m(\u001b[0m\u001b[0;34m)\u001b[0m\u001b[0;34m\u001b[0m\u001b[0;34m\u001b[0m\u001b[0m\n\u001b[1;32m    128\u001b[0m                 \u001b[0mnew_ensemble\u001b[0m\u001b[0;34m.\u001b[0m\u001b[0mappend\u001b[0m\u001b[0;34m(\u001b[0m\u001b[0mi\u001b[0m\u001b[0;34m)\u001b[0m\u001b[0;34m\u001b[0m\u001b[0;34m\u001b[0m\u001b[0m\n\u001b[0;32m--> 129\u001b[0;31m                 \u001b[0mself\u001b[0m\u001b[0;34m.\u001b[0m\u001b[0mcreate_ensemble\u001b[0m\u001b[0;34m(\u001b[0m\u001b[0mnew_ensemble\u001b[0m\u001b[0;34m,\u001b[0m \u001b[0mvars\u001b[0m\u001b[0;34m,\u001b[0m \u001b[0mdists\u001b[0m\u001b[0;34m)\u001b[0m\u001b[0;34m\u001b[0m\u001b[0;34m\u001b[0m\u001b[0m\n\u001b[0m\u001b[1;32m    130\u001b[0m \u001b[0;34m\u001b[0m\u001b[0m\n\u001b[1;32m    131\u001b[0m     \u001b[0;32mdef\u001b[0m \u001b[0m_start\u001b[0m\u001b[0;34m(\u001b[0m\u001b[0mself\u001b[0m\u001b[0;34m)\u001b[0m\u001b[0;34m:\u001b[0m\u001b[0;34m\u001b[0m\u001b[0;34m\u001b[0m\u001b[0m\n",
            "\u001b[0;32m<ipython-input-2-e974263f0896>\u001b[0m in \u001b[0;36mcreate_ensemble\u001b[0;34m(self, ensemble, vars, dists)\u001b[0m\n\u001b[1;32m    127\u001b[0m                 \u001b[0mnew_ensemble\u001b[0m \u001b[0;34m=\u001b[0m \u001b[0mensemble\u001b[0m\u001b[0;34m.\u001b[0m\u001b[0mcopy\u001b[0m\u001b[0;34m(\u001b[0m\u001b[0;34m)\u001b[0m\u001b[0;34m\u001b[0m\u001b[0;34m\u001b[0m\u001b[0m\n\u001b[1;32m    128\u001b[0m                 \u001b[0mnew_ensemble\u001b[0m\u001b[0;34m.\u001b[0m\u001b[0mappend\u001b[0m\u001b[0;34m(\u001b[0m\u001b[0mi\u001b[0m\u001b[0;34m)\u001b[0m\u001b[0;34m\u001b[0m\u001b[0;34m\u001b[0m\u001b[0m\n\u001b[0;32m--> 129\u001b[0;31m                 \u001b[0mself\u001b[0m\u001b[0;34m.\u001b[0m\u001b[0mcreate_ensemble\u001b[0m\u001b[0;34m(\u001b[0m\u001b[0mnew_ensemble\u001b[0m\u001b[0;34m,\u001b[0m \u001b[0mvars\u001b[0m\u001b[0;34m,\u001b[0m \u001b[0mdists\u001b[0m\u001b[0;34m)\u001b[0m\u001b[0;34m\u001b[0m\u001b[0;34m\u001b[0m\u001b[0m\n\u001b[0m\u001b[1;32m    130\u001b[0m \u001b[0;34m\u001b[0m\u001b[0m\n\u001b[1;32m    131\u001b[0m     \u001b[0;32mdef\u001b[0m \u001b[0m_start\u001b[0m\u001b[0;34m(\u001b[0m\u001b[0mself\u001b[0m\u001b[0;34m)\u001b[0m\u001b[0;34m:\u001b[0m\u001b[0;34m\u001b[0m\u001b[0;34m\u001b[0m\u001b[0m\n",
            "\u001b[0;32m<ipython-input-2-e974263f0896>\u001b[0m in \u001b[0;36mcreate_ensemble\u001b[0;34m(self, ensemble, vars, dists)\u001b[0m\n\u001b[1;32m    127\u001b[0m                 \u001b[0mnew_ensemble\u001b[0m \u001b[0;34m=\u001b[0m \u001b[0mensemble\u001b[0m\u001b[0;34m.\u001b[0m\u001b[0mcopy\u001b[0m\u001b[0;34m(\u001b[0m\u001b[0;34m)\u001b[0m\u001b[0;34m\u001b[0m\u001b[0;34m\u001b[0m\u001b[0m\n\u001b[1;32m    128\u001b[0m                 \u001b[0mnew_ensemble\u001b[0m\u001b[0;34m.\u001b[0m\u001b[0mappend\u001b[0m\u001b[0;34m(\u001b[0m\u001b[0mi\u001b[0m\u001b[0;34m)\u001b[0m\u001b[0;34m\u001b[0m\u001b[0;34m\u001b[0m\u001b[0m\n\u001b[0;32m--> 129\u001b[0;31m                 \u001b[0mself\u001b[0m\u001b[0;34m.\u001b[0m\u001b[0mcreate_ensemble\u001b[0m\u001b[0;34m(\u001b[0m\u001b[0mnew_ensemble\u001b[0m\u001b[0;34m,\u001b[0m \u001b[0mvars\u001b[0m\u001b[0;34m,\u001b[0m \u001b[0mdists\u001b[0m\u001b[0;34m)\u001b[0m\u001b[0;34m\u001b[0m\u001b[0;34m\u001b[0m\u001b[0m\n\u001b[0m\u001b[1;32m    130\u001b[0m \u001b[0;34m\u001b[0m\u001b[0m\n\u001b[1;32m    131\u001b[0m     \u001b[0;32mdef\u001b[0m \u001b[0m_start\u001b[0m\u001b[0;34m(\u001b[0m\u001b[0mself\u001b[0m\u001b[0;34m)\u001b[0m\u001b[0;34m:\u001b[0m\u001b[0;34m\u001b[0m\u001b[0;34m\u001b[0m\u001b[0m\n",
            "\u001b[0;32m<ipython-input-2-e974263f0896>\u001b[0m in \u001b[0;36mcreate_ensemble\u001b[0;34m(self, ensemble, vars, dists)\u001b[0m\n\u001b[1;32m    127\u001b[0m                 \u001b[0mnew_ensemble\u001b[0m \u001b[0;34m=\u001b[0m \u001b[0mensemble\u001b[0m\u001b[0;34m.\u001b[0m\u001b[0mcopy\u001b[0m\u001b[0;34m(\u001b[0m\u001b[0;34m)\u001b[0m\u001b[0;34m\u001b[0m\u001b[0;34m\u001b[0m\u001b[0m\n\u001b[1;32m    128\u001b[0m                 \u001b[0mnew_ensemble\u001b[0m\u001b[0;34m.\u001b[0m\u001b[0mappend\u001b[0m\u001b[0;34m(\u001b[0m\u001b[0mi\u001b[0m\u001b[0;34m)\u001b[0m\u001b[0;34m\u001b[0m\u001b[0;34m\u001b[0m\u001b[0m\n\u001b[0;32m--> 129\u001b[0;31m                 \u001b[0mself\u001b[0m\u001b[0;34m.\u001b[0m\u001b[0mcreate_ensemble\u001b[0m\u001b[0;34m(\u001b[0m\u001b[0mnew_ensemble\u001b[0m\u001b[0;34m,\u001b[0m \u001b[0mvars\u001b[0m\u001b[0;34m,\u001b[0m \u001b[0mdists\u001b[0m\u001b[0;34m)\u001b[0m\u001b[0;34m\u001b[0m\u001b[0;34m\u001b[0m\u001b[0m\n\u001b[0m\u001b[1;32m    130\u001b[0m \u001b[0;34m\u001b[0m\u001b[0m\n\u001b[1;32m    131\u001b[0m     \u001b[0;32mdef\u001b[0m \u001b[0m_start\u001b[0m\u001b[0;34m(\u001b[0m\u001b[0mself\u001b[0m\u001b[0;34m)\u001b[0m\u001b[0;34m:\u001b[0m\u001b[0;34m\u001b[0m\u001b[0;34m\u001b[0m\u001b[0m\n",
            "\u001b[0;32m<ipython-input-2-e974263f0896>\u001b[0m in \u001b[0;36mcreate_ensemble\u001b[0;34m(self, ensemble, vars, dists)\u001b[0m\n\u001b[1;32m    127\u001b[0m                 \u001b[0mnew_ensemble\u001b[0m \u001b[0;34m=\u001b[0m \u001b[0mensemble\u001b[0m\u001b[0;34m.\u001b[0m\u001b[0mcopy\u001b[0m\u001b[0;34m(\u001b[0m\u001b[0;34m)\u001b[0m\u001b[0;34m\u001b[0m\u001b[0;34m\u001b[0m\u001b[0m\n\u001b[1;32m    128\u001b[0m                 \u001b[0mnew_ensemble\u001b[0m\u001b[0;34m.\u001b[0m\u001b[0mappend\u001b[0m\u001b[0;34m(\u001b[0m\u001b[0mi\u001b[0m\u001b[0;34m)\u001b[0m\u001b[0;34m\u001b[0m\u001b[0;34m\u001b[0m\u001b[0m\n\u001b[0;32m--> 129\u001b[0;31m                 \u001b[0mself\u001b[0m\u001b[0;34m.\u001b[0m\u001b[0mcreate_ensemble\u001b[0m\u001b[0;34m(\u001b[0m\u001b[0mnew_ensemble\u001b[0m\u001b[0;34m,\u001b[0m \u001b[0mvars\u001b[0m\u001b[0;34m,\u001b[0m \u001b[0mdists\u001b[0m\u001b[0;34m)\u001b[0m\u001b[0;34m\u001b[0m\u001b[0;34m\u001b[0m\u001b[0m\n\u001b[0m\u001b[1;32m    130\u001b[0m \u001b[0;34m\u001b[0m\u001b[0m\n\u001b[1;32m    131\u001b[0m     \u001b[0;32mdef\u001b[0m \u001b[0m_start\u001b[0m\u001b[0;34m(\u001b[0m\u001b[0mself\u001b[0m\u001b[0;34m)\u001b[0m\u001b[0;34m:\u001b[0m\u001b[0;34m\u001b[0m\u001b[0;34m\u001b[0m\u001b[0m\n",
            "\u001b[0;32m<ipython-input-2-e974263f0896>\u001b[0m in \u001b[0;36mcreate_ensemble\u001b[0;34m(self, ensemble, vars, dists)\u001b[0m\n\u001b[1;32m    127\u001b[0m                 \u001b[0mnew_ensemble\u001b[0m \u001b[0;34m=\u001b[0m \u001b[0mensemble\u001b[0m\u001b[0;34m.\u001b[0m\u001b[0mcopy\u001b[0m\u001b[0;34m(\u001b[0m\u001b[0;34m)\u001b[0m\u001b[0;34m\u001b[0m\u001b[0;34m\u001b[0m\u001b[0m\n\u001b[1;32m    128\u001b[0m                 \u001b[0mnew_ensemble\u001b[0m\u001b[0;34m.\u001b[0m\u001b[0mappend\u001b[0m\u001b[0;34m(\u001b[0m\u001b[0mi\u001b[0m\u001b[0;34m)\u001b[0m\u001b[0;34m\u001b[0m\u001b[0;34m\u001b[0m\u001b[0m\n\u001b[0;32m--> 129\u001b[0;31m                 \u001b[0mself\u001b[0m\u001b[0;34m.\u001b[0m\u001b[0mcreate_ensemble\u001b[0m\u001b[0;34m(\u001b[0m\u001b[0mnew_ensemble\u001b[0m\u001b[0;34m,\u001b[0m \u001b[0mvars\u001b[0m\u001b[0;34m,\u001b[0m \u001b[0mdists\u001b[0m\u001b[0;34m)\u001b[0m\u001b[0;34m\u001b[0m\u001b[0;34m\u001b[0m\u001b[0m\n\u001b[0m\u001b[1;32m    130\u001b[0m \u001b[0;34m\u001b[0m\u001b[0m\n\u001b[1;32m    131\u001b[0m     \u001b[0;32mdef\u001b[0m \u001b[0m_start\u001b[0m\u001b[0;34m(\u001b[0m\u001b[0mself\u001b[0m\u001b[0;34m)\u001b[0m\u001b[0;34m:\u001b[0m\u001b[0;34m\u001b[0m\u001b[0;34m\u001b[0m\u001b[0m\n",
            "\u001b[0;32m<ipython-input-2-e974263f0896>\u001b[0m in \u001b[0;36mcreate_ensemble\u001b[0;34m(self, ensemble, vars, dists)\u001b[0m\n\u001b[1;32m    127\u001b[0m                 \u001b[0mnew_ensemble\u001b[0m \u001b[0;34m=\u001b[0m \u001b[0mensemble\u001b[0m\u001b[0;34m.\u001b[0m\u001b[0mcopy\u001b[0m\u001b[0;34m(\u001b[0m\u001b[0;34m)\u001b[0m\u001b[0;34m\u001b[0m\u001b[0;34m\u001b[0m\u001b[0m\n\u001b[1;32m    128\u001b[0m                 \u001b[0mnew_ensemble\u001b[0m\u001b[0;34m.\u001b[0m\u001b[0mappend\u001b[0m\u001b[0;34m(\u001b[0m\u001b[0mi\u001b[0m\u001b[0;34m)\u001b[0m\u001b[0;34m\u001b[0m\u001b[0;34m\u001b[0m\u001b[0m\n\u001b[0;32m--> 129\u001b[0;31m                 \u001b[0mself\u001b[0m\u001b[0;34m.\u001b[0m\u001b[0mcreate_ensemble\u001b[0m\u001b[0;34m(\u001b[0m\u001b[0mnew_ensemble\u001b[0m\u001b[0;34m,\u001b[0m \u001b[0mvars\u001b[0m\u001b[0;34m,\u001b[0m \u001b[0mdists\u001b[0m\u001b[0;34m)\u001b[0m\u001b[0;34m\u001b[0m\u001b[0;34m\u001b[0m\u001b[0m\n\u001b[0m\u001b[1;32m    130\u001b[0m \u001b[0;34m\u001b[0m\u001b[0m\n\u001b[1;32m    131\u001b[0m     \u001b[0;32mdef\u001b[0m \u001b[0m_start\u001b[0m\u001b[0;34m(\u001b[0m\u001b[0mself\u001b[0m\u001b[0;34m)\u001b[0m\u001b[0;34m:\u001b[0m\u001b[0;34m\u001b[0m\u001b[0;34m\u001b[0m\u001b[0m\n",
            "\u001b[0;32m<ipython-input-2-e974263f0896>\u001b[0m in \u001b[0;36mcreate_ensemble\u001b[0;34m(self, ensemble, vars, dists)\u001b[0m\n\u001b[1;32m    127\u001b[0m                 \u001b[0mnew_ensemble\u001b[0m \u001b[0;34m=\u001b[0m \u001b[0mensemble\u001b[0m\u001b[0;34m.\u001b[0m\u001b[0mcopy\u001b[0m\u001b[0;34m(\u001b[0m\u001b[0;34m)\u001b[0m\u001b[0;34m\u001b[0m\u001b[0;34m\u001b[0m\u001b[0m\n\u001b[1;32m    128\u001b[0m                 \u001b[0mnew_ensemble\u001b[0m\u001b[0;34m.\u001b[0m\u001b[0mappend\u001b[0m\u001b[0;34m(\u001b[0m\u001b[0mi\u001b[0m\u001b[0;34m)\u001b[0m\u001b[0;34m\u001b[0m\u001b[0;34m\u001b[0m\u001b[0m\n\u001b[0;32m--> 129\u001b[0;31m                 \u001b[0mself\u001b[0m\u001b[0;34m.\u001b[0m\u001b[0mcreate_ensemble\u001b[0m\u001b[0;34m(\u001b[0m\u001b[0mnew_ensemble\u001b[0m\u001b[0;34m,\u001b[0m \u001b[0mvars\u001b[0m\u001b[0;34m,\u001b[0m \u001b[0mdists\u001b[0m\u001b[0;34m)\u001b[0m\u001b[0;34m\u001b[0m\u001b[0;34m\u001b[0m\u001b[0m\n\u001b[0m\u001b[1;32m    130\u001b[0m \u001b[0;34m\u001b[0m\u001b[0m\n\u001b[1;32m    131\u001b[0m     \u001b[0;32mdef\u001b[0m \u001b[0m_start\u001b[0m\u001b[0;34m(\u001b[0m\u001b[0mself\u001b[0m\u001b[0;34m)\u001b[0m\u001b[0;34m:\u001b[0m\u001b[0;34m\u001b[0m\u001b[0;34m\u001b[0m\u001b[0m\n",
            "\u001b[0;32m<ipython-input-2-e974263f0896>\u001b[0m in \u001b[0;36mcreate_ensemble\u001b[0;34m(self, ensemble, vars, dists)\u001b[0m\n\u001b[1;32m    127\u001b[0m                 \u001b[0mnew_ensemble\u001b[0m \u001b[0;34m=\u001b[0m \u001b[0mensemble\u001b[0m\u001b[0;34m.\u001b[0m\u001b[0mcopy\u001b[0m\u001b[0;34m(\u001b[0m\u001b[0;34m)\u001b[0m\u001b[0;34m\u001b[0m\u001b[0;34m\u001b[0m\u001b[0m\n\u001b[1;32m    128\u001b[0m                 \u001b[0mnew_ensemble\u001b[0m\u001b[0;34m.\u001b[0m\u001b[0mappend\u001b[0m\u001b[0;34m(\u001b[0m\u001b[0mi\u001b[0m\u001b[0;34m)\u001b[0m\u001b[0;34m\u001b[0m\u001b[0;34m\u001b[0m\u001b[0m\n\u001b[0;32m--> 129\u001b[0;31m                 \u001b[0mself\u001b[0m\u001b[0;34m.\u001b[0m\u001b[0mcreate_ensemble\u001b[0m\u001b[0;34m(\u001b[0m\u001b[0mnew_ensemble\u001b[0m\u001b[0;34m,\u001b[0m \u001b[0mvars\u001b[0m\u001b[0;34m,\u001b[0m \u001b[0mdists\u001b[0m\u001b[0;34m)\u001b[0m\u001b[0;34m\u001b[0m\u001b[0;34m\u001b[0m\u001b[0m\n\u001b[0m\u001b[1;32m    130\u001b[0m \u001b[0;34m\u001b[0m\u001b[0m\n\u001b[1;32m    131\u001b[0m     \u001b[0;32mdef\u001b[0m \u001b[0m_start\u001b[0m\u001b[0;34m(\u001b[0m\u001b[0mself\u001b[0m\u001b[0;34m)\u001b[0m\u001b[0;34m:\u001b[0m\u001b[0;34m\u001b[0m\u001b[0;34m\u001b[0m\u001b[0m\n",
            "\u001b[0;32m<ipython-input-2-e974263f0896>\u001b[0m in \u001b[0;36mcreate_ensemble\u001b[0;34m(self, ensemble, vars, dists)\u001b[0m\n\u001b[1;32m    127\u001b[0m                 \u001b[0mnew_ensemble\u001b[0m \u001b[0;34m=\u001b[0m \u001b[0mensemble\u001b[0m\u001b[0;34m.\u001b[0m\u001b[0mcopy\u001b[0m\u001b[0;34m(\u001b[0m\u001b[0;34m)\u001b[0m\u001b[0;34m\u001b[0m\u001b[0;34m\u001b[0m\u001b[0m\n\u001b[1;32m    128\u001b[0m                 \u001b[0mnew_ensemble\u001b[0m\u001b[0;34m.\u001b[0m\u001b[0mappend\u001b[0m\u001b[0;34m(\u001b[0m\u001b[0mi\u001b[0m\u001b[0;34m)\u001b[0m\u001b[0;34m\u001b[0m\u001b[0;34m\u001b[0m\u001b[0m\n\u001b[0;32m--> 129\u001b[0;31m                 \u001b[0mself\u001b[0m\u001b[0;34m.\u001b[0m\u001b[0mcreate_ensemble\u001b[0m\u001b[0;34m(\u001b[0m\u001b[0mnew_ensemble\u001b[0m\u001b[0;34m,\u001b[0m \u001b[0mvars\u001b[0m\u001b[0;34m,\u001b[0m \u001b[0mdists\u001b[0m\u001b[0;34m)\u001b[0m\u001b[0;34m\u001b[0m\u001b[0;34m\u001b[0m\u001b[0m\n\u001b[0m\u001b[1;32m    130\u001b[0m \u001b[0;34m\u001b[0m\u001b[0m\n\u001b[1;32m    131\u001b[0m     \u001b[0;32mdef\u001b[0m \u001b[0m_start\u001b[0m\u001b[0;34m(\u001b[0m\u001b[0mself\u001b[0m\u001b[0;34m)\u001b[0m\u001b[0;34m:\u001b[0m\u001b[0;34m\u001b[0m\u001b[0;34m\u001b[0m\u001b[0m\n",
            "\u001b[0;32m<ipython-input-2-e974263f0896>\u001b[0m in \u001b[0;36mcreate_ensemble\u001b[0;34m(self, ensemble, vars, dists)\u001b[0m\n\u001b[1;32m    127\u001b[0m                 \u001b[0mnew_ensemble\u001b[0m \u001b[0;34m=\u001b[0m \u001b[0mensemble\u001b[0m\u001b[0;34m.\u001b[0m\u001b[0mcopy\u001b[0m\u001b[0;34m(\u001b[0m\u001b[0;34m)\u001b[0m\u001b[0;34m\u001b[0m\u001b[0;34m\u001b[0m\u001b[0m\n\u001b[1;32m    128\u001b[0m                 \u001b[0mnew_ensemble\u001b[0m\u001b[0;34m.\u001b[0m\u001b[0mappend\u001b[0m\u001b[0;34m(\u001b[0m\u001b[0mi\u001b[0m\u001b[0;34m)\u001b[0m\u001b[0;34m\u001b[0m\u001b[0;34m\u001b[0m\u001b[0m\n\u001b[0;32m--> 129\u001b[0;31m                 \u001b[0mself\u001b[0m\u001b[0;34m.\u001b[0m\u001b[0mcreate_ensemble\u001b[0m\u001b[0;34m(\u001b[0m\u001b[0mnew_ensemble\u001b[0m\u001b[0;34m,\u001b[0m \u001b[0mvars\u001b[0m\u001b[0;34m,\u001b[0m \u001b[0mdists\u001b[0m\u001b[0;34m)\u001b[0m\u001b[0;34m\u001b[0m\u001b[0;34m\u001b[0m\u001b[0m\n\u001b[0m\u001b[1;32m    130\u001b[0m \u001b[0;34m\u001b[0m\u001b[0m\n\u001b[1;32m    131\u001b[0m     \u001b[0;32mdef\u001b[0m \u001b[0m_start\u001b[0m\u001b[0;34m(\u001b[0m\u001b[0mself\u001b[0m\u001b[0;34m)\u001b[0m\u001b[0;34m:\u001b[0m\u001b[0;34m\u001b[0m\u001b[0;34m\u001b[0m\u001b[0m\n",
            "\u001b[0;32m<ipython-input-2-e974263f0896>\u001b[0m in \u001b[0;36mcreate_ensemble\u001b[0;34m(self, ensemble, vars, dists)\u001b[0m\n\u001b[1;32m     66\u001b[0m         \u001b[0mP\u001b[0m \u001b[0;34m=\u001b[0m \u001b[0mdists\u001b[0m\u001b[0;34m[\u001b[0m\u001b[0mensemble\u001b[0m\u001b[0;34m]\u001b[0m\u001b[0;34m[\u001b[0m\u001b[0;34m:\u001b[0m\u001b[0;34m,\u001b[0m \u001b[0mensemble\u001b[0m\u001b[0;34m]\u001b[0m\u001b[0;34m\u001b[0m\u001b[0;34m\u001b[0m\u001b[0m\n\u001b[1;32m     67\u001b[0m         \u001b[0;32mtry\u001b[0m\u001b[0;34m:\u001b[0m\u001b[0;34m\u001b[0m\u001b[0;34m\u001b[0m\u001b[0m\n\u001b[0;32m---> 68\u001b[0;31m             \u001b[0mP1\u001b[0m \u001b[0;34m=\u001b[0m \u001b[0mnp\u001b[0m\u001b[0;34m.\u001b[0m\u001b[0mlinalg\u001b[0m\u001b[0;34m.\u001b[0m\u001b[0minv\u001b[0m\u001b[0;34m(\u001b[0m\u001b[0mP\u001b[0m\u001b[0;34m)\u001b[0m\u001b[0;34m\u001b[0m\u001b[0;34m\u001b[0m\u001b[0m\n\u001b[0m\u001b[1;32m     69\u001b[0m         \u001b[0;32mexcept\u001b[0m \u001b[0mException\u001b[0m \u001b[0;32mas\u001b[0m \u001b[0me\u001b[0m\u001b[0;34m:\u001b[0m\u001b[0;34m\u001b[0m\u001b[0;34m\u001b[0m\u001b[0m\n\u001b[1;32m     70\u001b[0m             \u001b[0mprint\u001b[0m\u001b[0;34m(\u001b[0m\u001b[0;34m'Can not revers dists matrix'\u001b[0m\u001b[0;34m)\u001b[0m\u001b[0;34m\u001b[0m\u001b[0;34m\u001b[0m\u001b[0m\n",
            "\u001b[0;32m/usr/local/lib/python3.10/dist-packages/numpy/linalg/linalg.py\u001b[0m in \u001b[0;36minv\u001b[0;34m(a)\u001b[0m\n\u001b[1;32m    559\u001b[0m     \u001b[0msignature\u001b[0m \u001b[0;34m=\u001b[0m \u001b[0;34m'D->D'\u001b[0m \u001b[0;32mif\u001b[0m \u001b[0misComplexType\u001b[0m\u001b[0;34m(\u001b[0m\u001b[0mt\u001b[0m\u001b[0;34m)\u001b[0m \u001b[0;32melse\u001b[0m \u001b[0;34m'd->d'\u001b[0m\u001b[0;34m\u001b[0m\u001b[0;34m\u001b[0m\u001b[0m\n\u001b[1;32m    560\u001b[0m     \u001b[0mextobj\u001b[0m \u001b[0;34m=\u001b[0m \u001b[0mget_linalg_error_extobj\u001b[0m\u001b[0;34m(\u001b[0m\u001b[0m_raise_linalgerror_singular\u001b[0m\u001b[0;34m)\u001b[0m\u001b[0;34m\u001b[0m\u001b[0;34m\u001b[0m\u001b[0m\n\u001b[0;32m--> 561\u001b[0;31m     \u001b[0mainv\u001b[0m \u001b[0;34m=\u001b[0m \u001b[0m_umath_linalg\u001b[0m\u001b[0;34m.\u001b[0m\u001b[0minv\u001b[0m\u001b[0;34m(\u001b[0m\u001b[0ma\u001b[0m\u001b[0;34m,\u001b[0m \u001b[0msignature\u001b[0m\u001b[0;34m=\u001b[0m\u001b[0msignature\u001b[0m\u001b[0;34m,\u001b[0m \u001b[0mextobj\u001b[0m\u001b[0;34m=\u001b[0m\u001b[0mextobj\u001b[0m\u001b[0;34m)\u001b[0m\u001b[0;34m\u001b[0m\u001b[0;34m\u001b[0m\u001b[0m\n\u001b[0m\u001b[1;32m    562\u001b[0m     \u001b[0;32mreturn\u001b[0m \u001b[0mwrap\u001b[0m\u001b[0;34m(\u001b[0m\u001b[0mainv\u001b[0m\u001b[0;34m.\u001b[0m\u001b[0mastype\u001b[0m\u001b[0;34m(\u001b[0m\u001b[0mresult_t\u001b[0m\u001b[0;34m,\u001b[0m \u001b[0mcopy\u001b[0m\u001b[0;34m=\u001b[0m\u001b[0;32mFalse\u001b[0m\u001b[0;34m)\u001b[0m\u001b[0;34m)\u001b[0m\u001b[0;34m\u001b[0m\u001b[0;34m\u001b[0m\u001b[0m\n\u001b[1;32m    563\u001b[0m \u001b[0;34m\u001b[0m\u001b[0m\n",
            "\u001b[0;31mKeyboardInterrupt\u001b[0m: "
          ]
        }
      ],
      "source": [
        "# VPK\n",
        "t_1 = time.time()\n",
        "vpk = VPK(tau=0.9)\n",
        "vpk.fit(X_train, y_train, X_valid, y_valid)\n",
        "y_pred = vpk.predict(X_test)\n",
        "t_2 = time.time()\n",
        "print(round(t_2 - t_1, 2))"
      ]
    },
    {
      "cell_type": "code",
      "execution_count": null,
      "metadata": {
        "id": "vZOfLI5qc9Vb"
      },
      "outputs": [],
      "source": [
        "# MCR\n",
        "np.random.seed(1)\n",
        "t_1 = time.time()\n",
        "mcr = ModifiedConvexRegression(num_features)\n",
        "mcr.fit(X_train, y_train, X_valid, y_valid)\n",
        "y_pred = mcr.predict(X_test)\n",
        "t_2 = time.time()\n",
        "print(round(t_2 - t_1, 2))"
      ]
    },
    {
      "cell_type": "markdown",
      "metadata": {
        "id": "SXPhvfwuervg"
      },
      "source": [
        "(5, 50)"
      ]
    },
    {
      "cell_type": "code",
      "execution_count": null,
      "metadata": {
        "id": "SGnSwglNe3VF"
      },
      "outputs": [],
      "source": [
        "X_train, y_train, X_valid, y_valid, X_test, y_test = generate_data(5, 50, seed=1)\n",
        "num_features = X_train.shape[1]"
      ]
    },
    {
      "cell_type": "code",
      "execution_count": null,
      "metadata": {
        "id": "Ks9Nx9Cje5cp"
      },
      "outputs": [],
      "source": [
        "# MCR\n",
        "np.random.seed(1)\n",
        "t_1 = time.time()\n",
        "mcr = ModifiedConvexRegression(num_features)\n",
        "mcr.fit(X_train, y_train, X_valid, y_valid)\n",
        "y_pred = mcr.predict(X_test)\n",
        "t_2 = time.time()\n",
        "print(round(t_2 - t_1, 2))"
      ]
    },
    {
      "cell_type": "markdown",
      "metadata": {
        "id": "RaFyFux3euDO"
      },
      "source": [
        "(5, 55)"
      ]
    },
    {
      "cell_type": "code",
      "execution_count": null,
      "metadata": {
        "id": "ruxhkX9Re6UK"
      },
      "outputs": [],
      "source": [
        "X_train, y_train, X_valid, y_valid, X_test, y_test = generate_data(5, 55, seed=1)\n",
        "num_features = X_train.shape[1]"
      ]
    },
    {
      "cell_type": "code",
      "execution_count": null,
      "metadata": {
        "id": "ejnrwEUge32N"
      },
      "outputs": [],
      "source": [
        "# MCR\n",
        "np.random.seed(1)\n",
        "t_1 = time.time()\n",
        "mcr = ModifiedConvexRegression(num_features)\n",
        "mcr.fit(X_train, y_train, X_valid, y_valid)\n",
        "y_pred = mcr.predict(X_test)\n",
        "t_2 = time.time()\n",
        "print(round(t_2 - t_1, 2))"
      ]
    },
    {
      "cell_type": "markdown",
      "metadata": {
        "id": "0vSpDMKOeuN6"
      },
      "source": [
        "(5, 60)"
      ]
    },
    {
      "cell_type": "code",
      "execution_count": null,
      "metadata": {
        "id": "XjcHDFTHe4VP"
      },
      "outputs": [],
      "source": [
        "X_train, y_train, X_valid, y_valid, X_test, y_test = generate_data(5, 60, seed=1)\n",
        "num_features = X_train.shape[1]"
      ]
    },
    {
      "cell_type": "code",
      "execution_count": null,
      "metadata": {
        "id": "sWNdNMCpe62B"
      },
      "outputs": [],
      "source": [
        "# MCR\n",
        "np.random.seed(1)\n",
        "t_1 = time.time()\n",
        "mcr = ModifiedConvexRegression(num_features)\n",
        "mcr.fit(X_train, y_train, X_valid, y_valid)\n",
        "y_pred = mcr.predict(X_test)\n",
        "t_2 = time.time()\n",
        "print(round(t_2 - t_1, 2))"
      ]
    },
    {
      "cell_type": "markdown",
      "metadata": {
        "id": "vGrWM9Xzeut2"
      },
      "source": [
        "(5, 65)"
      ]
    },
    {
      "cell_type": "code",
      "execution_count": null,
      "metadata": {
        "id": "f5ONFEYve43V"
      },
      "outputs": [],
      "source": [
        "X_train, y_train, X_valid, y_valid, X_test, y_test = generate_data(5, 65, seed=1)\n",
        "num_features = X_train.shape[1]"
      ]
    },
    {
      "cell_type": "code",
      "execution_count": null,
      "metadata": {
        "id": "3C_Qpysye7VH"
      },
      "outputs": [],
      "source": [
        "# MCR\n",
        "np.random.seed(1)\n",
        "t_1 = time.time()\n",
        "mcr = ModifiedConvexRegression(num_features)\n",
        "mcr.fit(X_train, y_train, X_valid, y_valid)\n",
        "y_pred = mcr.predict(X_test)\n",
        "t_2 = time.time()\n",
        "print(round(t_2 - t_1, 2))"
      ]
    },
    {
      "cell_type": "markdown",
      "metadata": {
        "id": "AD5SJsRmGWTM"
      },
      "source": [
        "(10, 20)"
      ]
    },
    {
      "cell_type": "code",
      "execution_count": null,
      "metadata": {
        "id": "0stBj2x_GXyr"
      },
      "outputs": [],
      "source": [
        "X_train, y_train, X_valid, y_valid, X_test, y_test = generate_data(10, 20, seed=1)\n",
        "num_features = X_train.shape[1]"
      ]
    },
    {
      "cell_type": "code",
      "execution_count": null,
      "metadata": {
        "id": "4Tbmia25GX5l"
      },
      "outputs": [],
      "source": [
        "# VPK\n",
        "t_1 = time.time()\n",
        "vpk = VPK(tau=0.9)\n",
        "vpk.fit(X_train, y_train, X_valid, y_valid)\n",
        "y_pred = vpk.predict(X_test)\n",
        "t_2 = time.time()\n",
        "print(round(t_2 - t_1, 2))"
      ]
    },
    {
      "cell_type": "code",
      "execution_count": null,
      "metadata": {
        "id": "u14uSm33GYAb"
      },
      "outputs": [],
      "source": [
        "# MCR\n",
        "np.random.seed(1)\n",
        "t_1 = time.time()\n",
        "mcr = ModifiedConvexRegression(num_features)\n",
        "mcr.fit(X_train, y_train, X_valid, y_valid)\n",
        "y_pred = mcr.predict(X_test)\n",
        "t_2 = time.time()\n",
        "print(round(t_2 - t_1, 2))"
      ]
    },
    {
      "cell_type": "markdown",
      "metadata": {
        "id": "B8_8DmwQGWaV"
      },
      "source": [
        "(10, 25)"
      ]
    },
    {
      "cell_type": "code",
      "execution_count": null,
      "metadata": {
        "id": "aWFWOaC5GYjX"
      },
      "outputs": [],
      "source": [
        "X_train, y_train, X_valid, y_valid, X_test, y_test = generate_data(10, 25, seed=1)\n",
        "num_features = X_train.shape[1]"
      ]
    },
    {
      "cell_type": "code",
      "execution_count": null,
      "metadata": {
        "id": "18qRmHbGGYnb"
      },
      "outputs": [],
      "source": [
        "# VPK\n",
        "t_1 = time.time()\n",
        "vpk = VPK(tau=0.9)\n",
        "vpk.fit(X_train, y_train, X_valid, y_valid)\n",
        "y_pred = vpk.predict(X_test)\n",
        "t_2 = time.time()\n",
        "print(round(t_2 - t_1, 2))"
      ]
    },
    {
      "cell_type": "code",
      "execution_count": null,
      "metadata": {
        "id": "6ikpcJLTGYsu"
      },
      "outputs": [],
      "source": [
        "# MCR\n",
        "np.random.seed(1)\n",
        "t_1 = time.time()\n",
        "mcr = ModifiedConvexRegression(num_features)\n",
        "mcr.fit(X_train, y_train, X_valid, y_valid)\n",
        "y_pred = mcr.predict(X_test)\n",
        "t_2 = time.time()\n",
        "print(round(t_2 - t_1, 2))"
      ]
    },
    {
      "cell_type": "markdown",
      "metadata": {
        "id": "uzMrHAopGWhU"
      },
      "source": [
        "(10, 30)"
      ]
    },
    {
      "cell_type": "code",
      "execution_count": null,
      "metadata": {
        "id": "vxByMGlFGZPY"
      },
      "outputs": [],
      "source": [
        "X_train, y_train, X_valid, y_valid, X_test, y_test = generate_data(10, 30, seed=1)\n",
        "num_features = X_train.shape[1]"
      ]
    },
    {
      "cell_type": "code",
      "execution_count": null,
      "metadata": {
        "id": "Ci-21D0pGZTB"
      },
      "outputs": [],
      "source": [
        "# VPK\n",
        "t_1 = time.time()\n",
        "vpk = VPK(tau=0.9)\n",
        "vpk.fit(X_train, y_train, X_valid, y_valid)\n",
        "y_pred = vpk.predict(X_test)\n",
        "t_2 = time.time()\n",
        "print(round(t_2 - t_1, 2))"
      ]
    },
    {
      "cell_type": "code",
      "execution_count": null,
      "metadata": {
        "id": "E2kGOULZGZXG"
      },
      "outputs": [],
      "source": [
        "# MCR\n",
        "np.random.seed(1)\n",
        "t_1 = time.time()\n",
        "mcr = ModifiedConvexRegression(num_features)\n",
        "mcr.fit(X_train, y_train, X_valid, y_valid)\n",
        "y_pred = mcr.predict(X_test)\n",
        "t_2 = time.time()\n",
        "print(round(t_2 - t_1, 2))"
      ]
    },
    {
      "cell_type": "markdown",
      "metadata": {
        "id": "NtIRCc3yGWvt"
      },
      "source": [
        "(10, 35)"
      ]
    },
    {
      "cell_type": "code",
      "execution_count": null,
      "metadata": {
        "id": "5eRyBhUAGg00"
      },
      "outputs": [],
      "source": [
        "X_train, y_train, X_valid, y_valid, X_test, y_test = generate_data(10, 35, seed=1)\n",
        "num_features = X_train.shape[1]"
      ]
    },
    {
      "cell_type": "code",
      "execution_count": null,
      "metadata": {
        "id": "RxR2iQe_Gg4W"
      },
      "outputs": [],
      "source": [
        "# VPK\n",
        "t_1 = time.time()\n",
        "vpk = VPK(tau=0.9)\n",
        "vpk.fit(X_train, y_train, X_valid, y_valid)\n",
        "y_pred = vpk.predict(X_test)\n",
        "t_2 = time.time()\n",
        "print(round(t_2 - t_1, 2))"
      ]
    },
    {
      "cell_type": "code",
      "execution_count": null,
      "metadata": {
        "id": "aoEBsVIZGg9k"
      },
      "outputs": [],
      "source": [
        "# MCR\n",
        "np.random.seed(1)\n",
        "t_1 = time.time()\n",
        "mcr = ModifiedConvexRegression(num_features)\n",
        "mcr.fit(X_train, y_train, X_valid, y_valid)\n",
        "y_pred = mcr.predict(X_test)\n",
        "t_2 = time.time()\n",
        "print(round(t_2 - t_1, 2))"
      ]
    },
    {
      "cell_type": "markdown",
      "metadata": {
        "id": "L2ouIlYbGW1w"
      },
      "source": [
        "(10, 40)"
      ]
    },
    {
      "cell_type": "code",
      "execution_count": null,
      "metadata": {
        "id": "nOp4BrioGkfE"
      },
      "outputs": [],
      "source": [
        "X_train, y_train, X_valid, y_valid, X_test, y_test = generate_data(10, 40, seed=1)\n",
        "num_features = X_train.shape[1]"
      ]
    },
    {
      "cell_type": "code",
      "execution_count": null,
      "metadata": {
        "id": "qSUwFYi-Gkh8"
      },
      "outputs": [],
      "source": [
        "# VPK\n",
        "t_1 = time.time()\n",
        "vpk = VPK(tau=0.9)\n",
        "vpk.fit(X_train, y_train, X_valid, y_valid)\n",
        "y_pred = vpk.predict(X_test)\n",
        "t_2 = time.time()\n",
        "print(round(t_2 - t_1, 2))"
      ]
    },
    {
      "cell_type": "code",
      "execution_count": null,
      "metadata": {
        "id": "OwuCqbLfGkpA"
      },
      "outputs": [],
      "source": [
        "# MCR\n",
        "np.random.seed(1)\n",
        "t_1 = time.time()\n",
        "mcr = ModifiedConvexRegression(num_features)\n",
        "mcr.fit(X_train, y_train, X_valid, y_valid)\n",
        "y_pred = mcr.predict(X_test)\n",
        "t_2 = time.time()\n",
        "print(round(t_2 - t_1, 2))"
      ]
    },
    {
      "cell_type": "markdown",
      "metadata": {
        "id": "zOTAInTZGW7O"
      },
      "source": [
        "(10, 45)"
      ]
    },
    {
      "cell_type": "code",
      "execution_count": null,
      "metadata": {
        "id": "ZBGSzpRKGnnL"
      },
      "outputs": [],
      "source": [
        "X_train, y_train, X_valid, y_valid, X_test, y_test = generate_data(10, 45, seed=1)\n",
        "num_features = X_train.shape[1]"
      ]
    },
    {
      "cell_type": "code",
      "execution_count": null,
      "metadata": {
        "id": "7ZCGnQBpGnp9"
      },
      "outputs": [],
      "source": [
        "# VPK\n",
        "t_1 = time.time()\n",
        "vpk = VPK(tau=0.9)\n",
        "vpk.fit(X_train, y_train, X_valid, y_valid)\n",
        "y_pred = vpk.predict(X_test)\n",
        "t_2 = time.time()\n",
        "print(round(t_2 - t_1, 2))"
      ]
    },
    {
      "cell_type": "code",
      "execution_count": null,
      "metadata": {
        "id": "w-8BelBzGntY"
      },
      "outputs": [],
      "source": [
        "# MCR\n",
        "np.random.seed(1)\n",
        "t_1 = time.time()\n",
        "mcr = ModifiedConvexRegression(num_features)\n",
        "mcr.fit(X_train, y_train, X_valid, y_valid)\n",
        "y_pred = mcr.predict(X_test)\n",
        "t_2 = time.time()\n",
        "print(round(t_2 - t_1, 2))"
      ]
    },
    {
      "cell_type": "markdown",
      "metadata": {
        "id": "7Luko2J2GXBL"
      },
      "source": [
        "(10, 50)"
      ]
    },
    {
      "cell_type": "code",
      "execution_count": null,
      "metadata": {
        "id": "KaqENl_7GqOT"
      },
      "outputs": [],
      "source": [
        "X_train, y_train, X_valid, y_valid, X_test, y_test = generate_data(10, 50, seed=1)\n",
        "num_features = X_train.shape[1]"
      ]
    },
    {
      "cell_type": "code",
      "execution_count": null,
      "metadata": {
        "id": "Ka7C_jQjGqQw"
      },
      "outputs": [],
      "source": [
        "# VPK\n",
        "t_1 = time.time()\n",
        "vpk = VPK(tau=0.9)\n",
        "vpk.fit(X_train, y_train, X_valid, y_valid)\n",
        "y_pred = vpk.predict(X_test)\n",
        "t_2 = time.time()\n",
        "print(round(t_2 - t_1, 2))"
      ]
    },
    {
      "cell_type": "code",
      "execution_count": null,
      "metadata": {
        "id": "sfiV2B6yGqUC"
      },
      "outputs": [],
      "source": [
        "# MCR\n",
        "np.random.seed(1)\n",
        "t_1 = time.time()\n",
        "mcr = ModifiedConvexRegression(num_features)\n",
        "mcr.fit(X_train, y_train, X_valid, y_valid)\n",
        "y_pred = mcr.predict(X_test)\n",
        "t_2 = time.time()\n",
        "print(round(t_2 - t_1, 2))"
      ]
    },
    {
      "cell_type": "markdown",
      "metadata": {
        "id": "RUs7c_lOGXGG"
      },
      "source": [
        "(10, 55)"
      ]
    },
    {
      "cell_type": "code",
      "execution_count": null,
      "metadata": {
        "id": "LGn-AZdeGrii"
      },
      "outputs": [],
      "source": [
        "X_train, y_train, X_valid, y_valid, X_test, y_test = generate_data(10, 55, seed=1)\n",
        "num_features = X_train.shape[1]"
      ]
    },
    {
      "cell_type": "code",
      "execution_count": null,
      "metadata": {
        "id": "qxLIoiylGroH"
      },
      "outputs": [],
      "source": [
        "# MCR\n",
        "np.random.seed(1)\n",
        "t_1 = time.time()\n",
        "mcr = ModifiedConvexRegression(num_features)\n",
        "mcr.fit(X_train, y_train, X_valid, y_valid)\n",
        "y_pred = mcr.predict(X_test)\n",
        "t_2 = time.time()\n",
        "print(round(t_2 - t_1, 2))"
      ]
    },
    {
      "cell_type": "markdown",
      "metadata": {
        "id": "9tt6LMDqGXL4"
      },
      "source": [
        "(10, 60)"
      ]
    },
    {
      "cell_type": "code",
      "execution_count": null,
      "metadata": {
        "id": "RB8AqVuKGsOb"
      },
      "outputs": [],
      "source": [
        "X_train, y_train, X_valid, y_valid, X_test, y_test = generate_data(10, 60, seed=1)\n",
        "num_features = X_train.shape[1]"
      ]
    },
    {
      "cell_type": "code",
      "execution_count": null,
      "metadata": {
        "id": "8eJeIptlGsU9"
      },
      "outputs": [],
      "source": [
        "# MCR\n",
        "np.random.seed(1)\n",
        "t_1 = time.time()\n",
        "mcr = ModifiedConvexRegression(num_features)\n",
        "mcr.fit(X_train, y_train, X_valid, y_valid)\n",
        "y_pred = mcr.predict(X_test)\n",
        "t_2 = time.time()\n",
        "print(round(t_2 - t_1, 2))"
      ]
    },
    {
      "cell_type": "markdown",
      "metadata": {
        "id": "b1tvcO3MaUPa"
      },
      "source": [
        "# Эксперимент 2. Сравнение качества моделей"
      ]
    },
    {
      "cell_type": "code",
      "execution_count": null,
      "metadata": {
        "id": "fae2d8Ikjek5"
      },
      "outputs": [],
      "source": [
        "from tqdm import tqdm"
      ]
    },
    {
      "cell_type": "code",
      "execution_count": null,
      "metadata": {
        "id": "aM8U2Ec_Qdty"
      },
      "outputs": [],
      "source": [
        "r2_list_5_ridge = []\n",
        "r2_list_5_elastic = []\n",
        "r2_list_5_vpk = []\n",
        "r2_list_5_mcr = []\n",
        "\n",
        "r2_list_10_ridge = []\n",
        "r2_list_10_elastic = []\n",
        "r2_list_10_vpk = []\n",
        "r2_list_10_mcr = []"
      ]
    },
    {
      "cell_type": "code",
      "execution_count": null,
      "metadata": {
        "colab": {
          "base_uri": "https://localhost:8080/"
        },
        "id": "M9CY6ucpRUJj",
        "outputId": "86fde72b-27fe-45f0-83a0-b6f95138e1cc"
      },
      "outputs": [
        {
          "output_type": "stream",
          "name": "stderr",
          "text": [
            "  0%|          | 0/9 [00:00<?, ?it/s]\n",
            "  0%|          | 0/10 [00:00<?, ?it/s]\u001b[A\n",
            " 10%|█         | 1/10 [00:06<00:57,  6.38s/it]\u001b[A\n",
            " 20%|██        | 2/10 [00:12<00:49,  6.17s/it]\u001b[A\n",
            " 30%|███       | 3/10 [00:15<00:34,  4.92s/it]\u001b[A\n",
            " 40%|████      | 4/10 [00:17<00:22,  3.70s/it]\u001b[A\n",
            " 50%|█████     | 5/10 [00:19<00:15,  3.03s/it]\u001b[A\n",
            " 60%|██████    | 6/10 [00:21<00:10,  2.63s/it]\u001b[A\n",
            " 70%|███████   | 7/10 [00:23<00:07,  2.38s/it]\u001b[A\n",
            " 80%|████████  | 8/10 [00:26<00:05,  2.73s/it]\u001b[A\n",
            " 90%|█████████ | 9/10 [00:28<00:02,  2.57s/it]\u001b[A\n",
            "100%|██████████| 10/10 [00:30<00:00,  3.07s/it]\n",
            "/usr/local/lib/python3.10/dist-packages/numpy/lib/function_base.py:2897: RuntimeWarning: invalid value encountered in divide\n",
            "  c /= stddev[:, None]\n",
            "/usr/local/lib/python3.10/dist-packages/numpy/lib/function_base.py:2898: RuntimeWarning: invalid value encountered in divide\n",
            "  c /= stddev[None, :]\n",
            " 11%|█         | 1/9 [00:43<05:44, 43.03s/it]\n",
            "  0%|          | 0/10 [00:00<?, ?it/s]\u001b[A\n",
            " 10%|█         | 1/10 [00:02<00:19,  2.13s/it]\u001b[A\n",
            " 20%|██        | 2/10 [00:04<00:17,  2.22s/it]\u001b[A\n",
            " 30%|███       | 3/10 [00:06<00:15,  2.17s/it]\u001b[A\n",
            " 40%|████      | 4/10 [00:09<00:14,  2.46s/it]\u001b[A\n",
            " 50%|█████     | 5/10 [00:12<00:13,  2.70s/it]\u001b[A\n",
            " 60%|██████    | 6/10 [00:14<00:10,  2.52s/it]\u001b[A\n",
            " 70%|███████   | 7/10 [00:16<00:07,  2.39s/it]\u001b[A\n",
            " 80%|████████  | 8/10 [00:18<00:04,  2.28s/it]\u001b[A\n",
            " 90%|█████████ | 9/10 [00:20<00:02,  2.22s/it]\u001b[A\n",
            "100%|██████████| 10/10 [00:25<00:00,  2.53s/it]\n",
            "/usr/local/lib/python3.10/dist-packages/numpy/lib/function_base.py:2897: RuntimeWarning: invalid value encountered in divide\n",
            "  c /= stddev[:, None]\n",
            "/usr/local/lib/python3.10/dist-packages/numpy/lib/function_base.py:2898: RuntimeWarning: invalid value encountered in divide\n",
            "  c /= stddev[None, :]\n",
            " 22%|██▏       | 2/9 [01:25<04:57, 42.45s/it]\n",
            "  0%|          | 0/10 [00:00<?, ?it/s]\u001b[A\n",
            " 10%|█         | 1/10 [00:04<00:42,  4.68s/it]\u001b[A\n",
            " 20%|██        | 2/10 [00:11<00:49,  6.20s/it]\u001b[A\n",
            " 30%|███       | 3/10 [00:16<00:38,  5.50s/it]\u001b[A\n",
            " 40%|████      | 4/10 [00:22<00:33,  5.62s/it]\u001b[A\n",
            " 50%|█████     | 5/10 [00:29<00:30,  6.15s/it]\u001b[A\n",
            " 60%|██████    | 6/10 [00:37<00:27,  6.93s/it]\u001b[A\n",
            " 70%|███████   | 7/10 [00:42<00:18,  6.28s/it]\u001b[A\n",
            " 80%|████████  | 8/10 [00:47<00:11,  5.86s/it]\u001b[A\n",
            " 90%|█████████ | 9/10 [00:55<00:06,  6.54s/it]\u001b[A\n",
            "100%|██████████| 10/10 [01:00<00:00,  6.09s/it]\n",
            "/usr/local/lib/python3.10/dist-packages/numpy/lib/function_base.py:2897: RuntimeWarning: invalid value encountered in divide\n",
            "  c /= stddev[:, None]\n",
            "/usr/local/lib/python3.10/dist-packages/numpy/lib/function_base.py:2898: RuntimeWarning: invalid value encountered in divide\n",
            "  c /= stddev[None, :]\n",
            " 33%|███▎      | 3/9 [02:45<05:59, 59.98s/it]\n",
            "  0%|          | 0/10 [00:00<?, ?it/s]\u001b[A\n",
            " 10%|█         | 1/10 [00:13<02:00, 13.39s/it]\u001b[A\n",
            " 20%|██        | 2/10 [00:26<01:43, 12.98s/it]\u001b[A\n",
            " 30%|███       | 3/10 [00:37<01:26, 12.38s/it]\u001b[A\n",
            " 40%|████      | 4/10 [00:50<01:14, 12.40s/it]\u001b[A\n",
            " 50%|█████     | 5/10 [01:03<01:02, 12.56s/it]\u001b[A\n",
            " 60%|██████    | 6/10 [01:15<00:50, 12.59s/it]\u001b[A\n",
            " 70%|███████   | 7/10 [01:28<00:38, 12.79s/it]\u001b[A\n",
            " 80%|████████  | 8/10 [01:41<00:25, 12.89s/it]\u001b[A\n",
            " 90%|█████████ | 9/10 [01:54<00:12, 12.90s/it]\u001b[A\n",
            "100%|██████████| 10/10 [02:08<00:00, 12.82s/it]\n",
            "/usr/local/lib/python3.10/dist-packages/numpy/lib/function_base.py:2897: RuntimeWarning: invalid value encountered in divide\n",
            "  c /= stddev[:, None]\n",
            "/usr/local/lib/python3.10/dist-packages/numpy/lib/function_base.py:2898: RuntimeWarning: invalid value encountered in divide\n",
            "  c /= stddev[None, :]\n",
            " 44%|████▍     | 4/9 [05:21<08:08, 97.67s/it]/usr/local/lib/python3.10/dist-packages/numpy/lib/function_base.py:2897: RuntimeWarning: invalid value encountered in divide\n",
            "  c /= stddev[:, None]\n",
            "/usr/local/lib/python3.10/dist-packages/numpy/lib/function_base.py:2898: RuntimeWarning: invalid value encountered in divide\n",
            "  c /= stddev[None, :]\n",
            " 56%|█████▌    | 5/9 [05:57<05:02, 75.63s/it]/usr/local/lib/python3.10/dist-packages/numpy/lib/function_base.py:2897: RuntimeWarning: invalid value encountered in divide\n",
            "  c /= stddev[:, None]\n",
            "/usr/local/lib/python3.10/dist-packages/numpy/lib/function_base.py:2898: RuntimeWarning: invalid value encountered in divide\n",
            "  c /= stddev[None, :]\n",
            " 67%|██████▋   | 6/9 [06:41<03:13, 64.66s/it]/usr/local/lib/python3.10/dist-packages/numpy/lib/function_base.py:2897: RuntimeWarning: invalid value encountered in divide\n",
            "  c /= stddev[:, None]\n",
            "/usr/local/lib/python3.10/dist-packages/numpy/lib/function_base.py:2898: RuntimeWarning: invalid value encountered in divide\n",
            "  c /= stddev[None, :]\n",
            " 78%|███████▊  | 7/9 [07:37<02:03, 61.92s/it]/usr/local/lib/python3.10/dist-packages/numpy/lib/function_base.py:2897: RuntimeWarning: invalid value encountered in divide\n",
            "  c /= stddev[:, None]\n",
            "/usr/local/lib/python3.10/dist-packages/numpy/lib/function_base.py:2898: RuntimeWarning: invalid value encountered in divide\n",
            "  c /= stddev[None, :]\n",
            " 89%|████████▉ | 8/9 [08:45<01:03, 63.69s/it]/usr/local/lib/python3.10/dist-packages/numpy/lib/function_base.py:2897: RuntimeWarning: invalid value encountered in divide\n",
            "  c /= stddev[:, None]\n",
            "/usr/local/lib/python3.10/dist-packages/numpy/lib/function_base.py:2898: RuntimeWarning: invalid value encountered in divide\n",
            "  c /= stddev[None, :]\n",
            "100%|██████████| 9/9 [10:08<00:00, 67.65s/it]\n"
          ]
        }
      ],
      "source": [
        "for num_bad in tqdm(range(25, 70, 5)):\n",
        "    X_train, y_train, X_valid, y_valid, X_test, y_test = generate_data(5, num_bad, seed=1)\n",
        "    num_features = X_train.shape[1]\n",
        "\n",
        "    # Ridge\n",
        "    ridge = Ridge()\n",
        "    ridge.fit(X_train, y_train)\n",
        "    y_pred_ridge = ridge.predict(X_test)\n",
        "    r_2_ridge = round(r2_score(y_test, y_pred_ridge), 2)\n",
        "    r2_list_5_ridge.append(r_2_ridge)\n",
        "\n",
        "    # Elastic\n",
        "    elastic = ElasticNet()\n",
        "    elastic.fit(X_train, y_train)\n",
        "    y_pred_elastic = elastic.predict(X_test)\n",
        "    r_2_elastic = round(r2_score(y_test, y_pred_elastic), 2)\n",
        "    r2_list_5_elastic.append(r_2_elastic)\n",
        "\n",
        "    # VPK\n",
        "    if num_bad < 45:\n",
        "        r_2_vpk_best = -np.inf\n",
        "        for tau in tqdm(np.linspace(0, 1, 10)):\n",
        "            vpk = VPK(tau=tau)\n",
        "            vpk.fit(X_train, y_train, X_valid, y_valid)\n",
        "            y_pred_vpk = vpk.predict(X_test)\n",
        "            r_2_vpk = round(r2_score(y_test, y_pred_vpk), 2)\n",
        "            r_2_vpk_best = max(r_2_vpk_best, r_2_vpk)\n",
        "        r2_list_5_vpk.append(r_2_vpk_best)\n",
        "\n",
        "    # MCR\n",
        "    np.random.seed(1)\n",
        "    mcr = ModifiedConvexRegression(num_features)\n",
        "    mcr.fit(X_train, y_train, X_valid, y_valid)\n",
        "    y_pred_mcr = mcr.predict(X_test)\n",
        "    r_2_mcr = round(r2_score(y_test, y_pred_mcr), 2)\n",
        "    r2_list_5_mcr.append(r_2_mcr)"
      ]
    },
    {
      "cell_type": "code",
      "execution_count": null,
      "metadata": {
        "colab": {
          "base_uri": "https://localhost:8080/"
        },
        "id": "TQIhhd8zm8Kb",
        "outputId": "7f4608e5-8bae-42cc-a2a0-02c750f3290f"
      },
      "outputs": [
        {
          "output_type": "execute_result",
          "data": {
            "text/plain": [
              "[-3.37, -1.46, 0.45, -2.87, 0.33, -0.18, 0.22, -0.36, -0.01]"
            ]
          },
          "metadata": {},
          "execution_count": 33
        }
      ],
      "source": [
        "r2_list_5_ridge"
      ]
    },
    {
      "cell_type": "code",
      "execution_count": null,
      "metadata": {
        "colab": {
          "base_uri": "https://localhost:8080/"
        },
        "id": "GoiE9QgenAll",
        "outputId": "ec40c134-8d8c-4cf3-c1ec-3d32bb7d5cb3"
      },
      "outputs": [
        {
          "output_type": "execute_result",
          "data": {
            "text/plain": [
              "[-0.09, -1.0, 0.54, -2.34, 0.29, -0.11, 0.35, -0.21, 0.01]"
            ]
          },
          "metadata": {},
          "execution_count": 34
        }
      ],
      "source": [
        "r2_list_5_elastic"
      ]
    },
    {
      "cell_type": "code",
      "execution_count": null,
      "metadata": {
        "colab": {
          "base_uri": "https://localhost:8080/"
        },
        "id": "pfLUC5UPnFVZ",
        "outputId": "774b8001-e335-4f11-8ddf-77129a427996"
      },
      "outputs": [
        {
          "output_type": "execute_result",
          "data": {
            "text/plain": [
              "[0.65, 0.08, 0.66, 0.34]"
            ]
          },
          "metadata": {},
          "execution_count": 35
        }
      ],
      "source": [
        "r2_list_5_vpk"
      ]
    },
    {
      "cell_type": "code",
      "execution_count": null,
      "metadata": {
        "colab": {
          "base_uri": "https://localhost:8080/"
        },
        "id": "aJ-kZcacnHAv",
        "outputId": "3af0e27b-0cf3-4946-e3bc-54ce2cb3808d"
      },
      "outputs": [
        {
          "output_type": "execute_result",
          "data": {
            "text/plain": [
              "[0.69, 0.06, 0.68, 0.1, 0.71, 0.37, 0.51, 0.14, 0.45]"
            ]
          },
          "metadata": {},
          "execution_count": 36
        }
      ],
      "source": [
        "r2_list_5_mcr"
      ]
    },
    {
      "cell_type": "code",
      "execution_count": null,
      "metadata": {
        "id": "FRu3rZHjpp7x"
      },
      "outputs": [],
      "source": [
        "import matplotlib.pyplot as plt"
      ]
    },
    {
      "cell_type": "code",
      "execution_count": null,
      "metadata": {
        "colab": {
          "base_uri": "https://localhost:8080/",
          "height": 520
        },
        "id": "tB16BsBApSrO",
        "outputId": "069b92ca-70f4-4df7-bad4-bbef6751e2e4"
      },
      "outputs": [
        {
          "output_type": "display_data",
          "data": {
            "text/plain": [
              "<Figure size 900x500 with 1 Axes>"
            ],
            "image/png": "[encoded data removed]"
          },
          "metadata": {}
        }
      ],
      "source": [
        "fig, axs = plt.subplots(1, 1)\n",
        "fig.set_size_inches(9, 5)\n",
        "fig.suptitle('Значение $r^2$-score от количества шумовых признаков', fontsize=14)\n",
        "\n",
        "x_1 = list(range(25, 70, 5))\n",
        "x_1_vpk = list(range(25, 45, 5))\n",
        "axs.plot(x_1, r2_list_5_ridge, label='Ridge')\n",
        "axs.plot(x_1, r2_list_5_elastic, label='ElasticNet')\n",
        "axs.plot(x_1_vpk, r2_list_5_vpk, label='CR')\n",
        "axs.plot(x_1, r2_list_5_mcr, label='MCR')\n",
        "\n",
        "plt.grid()\n",
        "axs.set_xlabel('Количество шумовых признаков', fontsize=14)\n",
        "axs.set_ylabel('$r^2$-score', fontsize=14)\n",
        "plt.legend(loc=4, fontsize=11)\n",
        "plt.savefig(\"compare_models.svg\")"
      ]
    },
    {
      "cell_type": "markdown",
      "metadata": {
        "id": "ZBoMu8RUaUXK"
      },
      "source": [
        "# Эксперимент 3. Подбор количества эпох"
      ]
    },
    {
      "cell_type": "code",
      "execution_count": null,
      "metadata": {
        "id": "FssRjcGfySQg"
      },
      "outputs": [],
      "source": [
        "vpk_r2_list_25 = []\n",
        "vpk_time_list_25 = []\n",
        "\n",
        "vpk_r2_list_35 = []\n",
        "vpk_time_list_35 = []\n",
        "\n",
        "vpk_r2_list_30 = []\n",
        "vpk_time_list_30 = []"
      ]
    },
    {
      "cell_type": "code",
      "execution_count": null,
      "metadata": {
        "colab": {
          "base_uri": "https://localhost:8080/",
          "height": 485
        },
        "id": "Dh9wlFeDwFTV",
        "outputId": "a98c6d2c-8629-49f3-d4f4-b6bbfdb52f1b"
      },
      "outputs": [
        {
          "output_type": "stream",
          "name": "stderr",
          "text": [
            "  0%|          | 0/7 [00:00<?, ?it/s]/usr/local/lib/python3.10/dist-packages/numpy/lib/function_base.py:2897: RuntimeWarning: invalid value encountered in divide\n",
            "  c /= stddev[:, None]\n",
            "/usr/local/lib/python3.10/dist-packages/numpy/lib/function_base.py:2898: RuntimeWarning: invalid value encountered in divide\n",
            "  c /= stddev[None, :]\n",
            " 14%|█▍        | 1/7 [00:06<00:41,  6.87s/it]\n"
          ]
        },
        {
          "output_type": "error",
          "ename": "KeyboardInterrupt",
          "evalue": "",
          "traceback": [
            "\u001b[0;31m---------------------------------------------------------------------------\u001b[0m",
            "\u001b[0;31mKeyboardInterrupt\u001b[0m                         Traceback (most recent call last)",
            "\u001b[0;32m<ipython-input-40-72bf0a53578f>\u001b[0m in \u001b[0;36m<cell line: 4>\u001b[0;34m()\u001b[0m\n\u001b[1;32m      6\u001b[0m     \u001b[0mstart\u001b[0m \u001b[0;34m=\u001b[0m \u001b[0mtime\u001b[0m\u001b[0;34m.\u001b[0m\u001b[0mtime\u001b[0m\u001b[0;34m(\u001b[0m\u001b[0;34m)\u001b[0m\u001b[0;34m\u001b[0m\u001b[0;34m\u001b[0m\u001b[0m\n\u001b[1;32m      7\u001b[0m     \u001b[0mmcr\u001b[0m \u001b[0;34m=\u001b[0m \u001b[0mModifiedConvexRegression\u001b[0m\u001b[0;34m(\u001b[0m\u001b[0mnum_epochs\u001b[0m\u001b[0;34m=\u001b[0m\u001b[0mint\u001b[0m\u001b[0;34m(\u001b[0m\u001b[0mnum_features\u001b[0m \u001b[0;34m*\u001b[0m \u001b[0mepoch_coeff\u001b[0m\u001b[0;34m)\u001b[0m\u001b[0;34m)\u001b[0m\u001b[0;34m\u001b[0m\u001b[0;34m\u001b[0m\u001b[0m\n\u001b[0;32m----> 8\u001b[0;31m     \u001b[0mmcr\u001b[0m\u001b[0;34m.\u001b[0m\u001b[0mfit\u001b[0m\u001b[0;34m(\u001b[0m\u001b[0mX_train\u001b[0m\u001b[0;34m,\u001b[0m \u001b[0my_train\u001b[0m\u001b[0;34m,\u001b[0m \u001b[0mX_valid\u001b[0m\u001b[0;34m,\u001b[0m \u001b[0my_valid\u001b[0m\u001b[0;34m)\u001b[0m\u001b[0;34m\u001b[0m\u001b[0;34m\u001b[0m\u001b[0m\n\u001b[0m\u001b[1;32m      9\u001b[0m     \u001b[0my_pred_mcr\u001b[0m \u001b[0;34m=\u001b[0m \u001b[0mmcr\u001b[0m\u001b[0;34m.\u001b[0m\u001b[0mpredict\u001b[0m\u001b[0;34m(\u001b[0m\u001b[0mX_test\u001b[0m\u001b[0;34m)\u001b[0m\u001b[0;34m\u001b[0m\u001b[0;34m\u001b[0m\u001b[0m\n\u001b[1;32m     10\u001b[0m     \u001b[0mend\u001b[0m \u001b[0;34m=\u001b[0m \u001b[0mtime\u001b[0m\u001b[0;34m.\u001b[0m\u001b[0mtime\u001b[0m\u001b[0;34m(\u001b[0m\u001b[0;34m)\u001b[0m\u001b[0;34m\u001b[0m\u001b[0;34m\u001b[0m\u001b[0m\n",
            "\u001b[0;32m<ipython-input-1-ac1a7cf5776b>\u001b[0m in \u001b[0;36mfit\u001b[0;34m(self, X_train, y_train, X_valid, y_valid)\u001b[0m\n\u001b[1;32m    260\u001b[0m             \u001b[0mself\u001b[0m\u001b[0;34m.\u001b[0m\u001b[0m_make_predictors\u001b[0m\u001b[0;34m(\u001b[0m\u001b[0mX_train_boostrap\u001b[0m\u001b[0;34m,\u001b[0m \u001b[0my_train_boostrap\u001b[0m\u001b[0;34m)\u001b[0m\u001b[0;34m\u001b[0m\u001b[0;34m\u001b[0m\u001b[0m\n\u001b[1;32m    261\u001b[0m             \u001b[0mvariance_matrix\u001b[0m \u001b[0;34m=\u001b[0m \u001b[0mself\u001b[0m\u001b[0;34m.\u001b[0m\u001b[0m_get_variance_matrix\u001b[0m\u001b[0;34m(\u001b[0m\u001b[0mX_valid\u001b[0m\u001b[0;34m)\u001b[0m\u001b[0;34m\u001b[0m\u001b[0;34m\u001b[0m\u001b[0m\n\u001b[0;32m--> 262\u001b[0;31m             \u001b[0mdistance_matrix\u001b[0m \u001b[0;34m=\u001b[0m \u001b[0mself\u001b[0m\u001b[0;34m.\u001b[0m\u001b[0m_get_distance_matrix\u001b[0m\u001b[0;34m(\u001b[0m\u001b[0mX_valid\u001b[0m\u001b[0;34m)\u001b[0m\u001b[0;34m\u001b[0m\u001b[0;34m\u001b[0m\u001b[0m\n\u001b[0m\u001b[1;32m    263\u001b[0m             \u001b[0mthetas\u001b[0m \u001b[0;34m=\u001b[0m \u001b[0mself\u001b[0m\u001b[0;34m.\u001b[0m\u001b[0m_get_thetas\u001b[0m\u001b[0;34m(\u001b[0m\u001b[0mvariance_matrix\u001b[0m\u001b[0;34m,\u001b[0m \u001b[0mdistance_matrix\u001b[0m\u001b[0;34m,\u001b[0m \u001b[0my_valid\u001b[0m\u001b[0;34m)\u001b[0m\u001b[0;34m\u001b[0m\u001b[0;34m\u001b[0m\u001b[0m\n\u001b[1;32m    264\u001b[0m             \u001b[0mpair\u001b[0m \u001b[0;34m=\u001b[0m \u001b[0mself\u001b[0m\u001b[0;34m.\u001b[0m\u001b[0m_get_pair_max\u001b[0m\u001b[0;34m(\u001b[0m\u001b[0mdistance_matrix\u001b[0m\u001b[0;34m,\u001b[0m \u001b[0mthetas\u001b[0m\u001b[0;34m)\u001b[0m\u001b[0;34m\u001b[0m\u001b[0;34m\u001b[0m\u001b[0m\n",
            "\u001b[0;32m<ipython-input-1-ac1a7cf5776b>\u001b[0m in \u001b[0;36m_get_distance_matrix\u001b[0;34m(self, X_valid)\u001b[0m\n\u001b[1;32m     56\u001b[0m                 \u001b[0mpredictor_2\u001b[0m \u001b[0;34m=\u001b[0m \u001b[0mself\u001b[0m\u001b[0;34m.\u001b[0m\u001b[0mpredictors\u001b[0m\u001b[0;34m[\u001b[0m\u001b[0midx_feature_2\u001b[0m\u001b[0;34m]\u001b[0m\u001b[0;34m\u001b[0m\u001b[0;34m\u001b[0m\u001b[0m\n\u001b[1;32m     57\u001b[0m \u001b[0;34m\u001b[0m\u001b[0m\n\u001b[0;32m---> 58\u001b[0;31m                 \u001b[0mprediction_1\u001b[0m \u001b[0;34m=\u001b[0m \u001b[0mpredictor_1\u001b[0m\u001b[0;34m.\u001b[0m\u001b[0mpredict\u001b[0m\u001b[0;34m(\u001b[0m\u001b[0mfeature_1\u001b[0m\u001b[0;34m)\u001b[0m\u001b[0;34m\u001b[0m\u001b[0;34m\u001b[0m\u001b[0m\n\u001b[0m\u001b[1;32m     59\u001b[0m                 \u001b[0mprediction_2\u001b[0m \u001b[0;34m=\u001b[0m \u001b[0mpredictor_2\u001b[0m\u001b[0;34m.\u001b[0m\u001b[0mpredict\u001b[0m\u001b[0;34m(\u001b[0m\u001b[0mfeature_2\u001b[0m\u001b[0;34m)\u001b[0m\u001b[0;34m\u001b[0m\u001b[0;34m\u001b[0m\u001b[0m\n\u001b[1;32m     60\u001b[0m \u001b[0;34m\u001b[0m\u001b[0m\n",
            "\u001b[0;32m/usr/local/lib/python3.10/dist-packages/sklearn/linear_model/_base.py\u001b[0m in \u001b[0;36mpredict\u001b[0;34m(self, X)\u001b[0m\n\u001b[1;32m    304\u001b[0m             \u001b[0mReturns\u001b[0m \u001b[0mpredicted\u001b[0m \u001b[0mvalues\u001b[0m\u001b[0;34m.\u001b[0m\u001b[0;34m\u001b[0m\u001b[0;34m\u001b[0m\u001b[0m\n\u001b[1;32m    305\u001b[0m         \"\"\"\n\u001b[0;32m--> 306\u001b[0;31m         \u001b[0;32mreturn\u001b[0m \u001b[0mself\u001b[0m\u001b[0;34m.\u001b[0m\u001b[0m_decision_function\u001b[0m\u001b[0;34m(\u001b[0m\u001b[0mX\u001b[0m\u001b[0;34m)\u001b[0m\u001b[0;34m\u001b[0m\u001b[0;34m\u001b[0m\u001b[0m\n\u001b[0m\u001b[1;32m    307\u001b[0m \u001b[0;34m\u001b[0m\u001b[0m\n\u001b[1;32m    308\u001b[0m     \u001b[0;32mdef\u001b[0m \u001b[0m_set_intercept\u001b[0m\u001b[0;34m(\u001b[0m\u001b[0mself\u001b[0m\u001b[0;34m,\u001b[0m \u001b[0mX_offset\u001b[0m\u001b[0;34m,\u001b[0m \u001b[0my_offset\u001b[0m\u001b[0;34m,\u001b[0m \u001b[0mX_scale\u001b[0m\u001b[0;34m)\u001b[0m\u001b[0;34m:\u001b[0m\u001b[0;34m\u001b[0m\u001b[0;34m\u001b[0m\u001b[0m\n",
            "\u001b[0;32m/usr/local/lib/python3.10/dist-packages/sklearn/linear_model/_base.py\u001b[0m in \u001b[0;36m_decision_function\u001b[0;34m(self, X)\u001b[0m\n\u001b[1;32m    283\u001b[0m         \u001b[0mcheck_is_fitted\u001b[0m\u001b[0;34m(\u001b[0m\u001b[0mself\u001b[0m\u001b[0;34m)\u001b[0m\u001b[0;34m\u001b[0m\u001b[0;34m\u001b[0m\u001b[0m\n\u001b[1;32m    284\u001b[0m \u001b[0;34m\u001b[0m\u001b[0m\n\u001b[0;32m--> 285\u001b[0;31m         \u001b[0mX\u001b[0m \u001b[0;34m=\u001b[0m \u001b[0mself\u001b[0m\u001b[0;34m.\u001b[0m\u001b[0m_validate_data\u001b[0m\u001b[0;34m(\u001b[0m\u001b[0mX\u001b[0m\u001b[0;34m,\u001b[0m \u001b[0maccept_sparse\u001b[0m\u001b[0;34m=\u001b[0m\u001b[0;34m[\u001b[0m\u001b[0;34m\"csr\"\u001b[0m\u001b[0;34m,\u001b[0m \u001b[0;34m\"csc\"\u001b[0m\u001b[0;34m,\u001b[0m \u001b[0;34m\"coo\"\u001b[0m\u001b[0;34m]\u001b[0m\u001b[0;34m,\u001b[0m \u001b[0mreset\u001b[0m\u001b[0;34m=\u001b[0m\u001b[0;32mFalse\u001b[0m\u001b[0;34m)\u001b[0m\u001b[0;34m\u001b[0m\u001b[0;34m\u001b[0m\u001b[0m\n\u001b[0m\u001b[1;32m    286\u001b[0m         \u001b[0mcoef_\u001b[0m \u001b[0;34m=\u001b[0m \u001b[0mself\u001b[0m\u001b[0;34m.\u001b[0m\u001b[0mcoef_\u001b[0m\u001b[0;34m\u001b[0m\u001b[0;34m\u001b[0m\u001b[0m\n\u001b[1;32m    287\u001b[0m         \u001b[0;32mif\u001b[0m \u001b[0mcoef_\u001b[0m\u001b[0;34m.\u001b[0m\u001b[0mndim\u001b[0m \u001b[0;34m==\u001b[0m \u001b[0;36m1\u001b[0m\u001b[0;34m:\u001b[0m\u001b[0;34m\u001b[0m\u001b[0;34m\u001b[0m\u001b[0m\n",
            "\u001b[0;32m/usr/local/lib/python3.10/dist-packages/sklearn/base.py\u001b[0m in \u001b[0;36m_validate_data\u001b[0;34m(self, X, y, reset, validate_separately, cast_to_ndarray, **check_params)\u001b[0m\n\u001b[1;32m    631\u001b[0m                 \u001b[0mout\u001b[0m \u001b[0;34m=\u001b[0m \u001b[0mX\u001b[0m\u001b[0;34m,\u001b[0m \u001b[0my\u001b[0m\u001b[0;34m\u001b[0m\u001b[0;34m\u001b[0m\u001b[0m\n\u001b[1;32m    632\u001b[0m         \u001b[0;32melif\u001b[0m \u001b[0;32mnot\u001b[0m \u001b[0mno_val_X\u001b[0m \u001b[0;32mand\u001b[0m \u001b[0mno_val_y\u001b[0m\u001b[0;34m:\u001b[0m\u001b[0;34m\u001b[0m\u001b[0;34m\u001b[0m\u001b[0m\n\u001b[0;32m--> 633\u001b[0;31m             \u001b[0mout\u001b[0m \u001b[0;34m=\u001b[0m \u001b[0mcheck_array\u001b[0m\u001b[0;34m(\u001b[0m\u001b[0mX\u001b[0m\u001b[0;34m,\u001b[0m \u001b[0minput_name\u001b[0m\u001b[0;34m=\u001b[0m\u001b[0;34m\"X\"\u001b[0m\u001b[0;34m,\u001b[0m \u001b[0;34m**\u001b[0m\u001b[0mcheck_params\u001b[0m\u001b[0;34m)\u001b[0m\u001b[0;34m\u001b[0m\u001b[0;34m\u001b[0m\u001b[0m\n\u001b[0m\u001b[1;32m    634\u001b[0m         \u001b[0;32melif\u001b[0m \u001b[0mno_val_X\u001b[0m \u001b[0;32mand\u001b[0m \u001b[0;32mnot\u001b[0m \u001b[0mno_val_y\u001b[0m\u001b[0;34m:\u001b[0m\u001b[0;34m\u001b[0m\u001b[0;34m\u001b[0m\u001b[0m\n\u001b[1;32m    635\u001b[0m             \u001b[0mout\u001b[0m \u001b[0;34m=\u001b[0m \u001b[0m_check_y\u001b[0m\u001b[0;34m(\u001b[0m\u001b[0my\u001b[0m\u001b[0;34m,\u001b[0m \u001b[0;34m**\u001b[0m\u001b[0mcheck_params\u001b[0m\u001b[0;34m)\u001b[0m\u001b[0;34m\u001b[0m\u001b[0;34m\u001b[0m\u001b[0m\n",
            "\u001b[0;32m/usr/local/lib/python3.10/dist-packages/sklearn/utils/validation.py\u001b[0m in \u001b[0;36mcheck_array\u001b[0;34m(array, accept_sparse, accept_large_sparse, dtype, order, copy, force_writeable, force_all_finite, ensure_2d, allow_nd, ensure_min_samples, ensure_min_features, estimator, input_name)\u001b[0m\n\u001b[1;32m   1062\u001b[0m \u001b[0;34m\u001b[0m\u001b[0m\n\u001b[1;32m   1063\u001b[0m         \u001b[0;32mif\u001b[0m \u001b[0mforce_all_finite\u001b[0m\u001b[0;34m:\u001b[0m\u001b[0;34m\u001b[0m\u001b[0;34m\u001b[0m\u001b[0m\n\u001b[0;32m-> 1064\u001b[0;31m             _assert_all_finite(\n\u001b[0m\u001b[1;32m   1065\u001b[0m                 \u001b[0marray\u001b[0m\u001b[0;34m,\u001b[0m\u001b[0;34m\u001b[0m\u001b[0;34m\u001b[0m\u001b[0m\n\u001b[1;32m   1066\u001b[0m                 \u001b[0minput_name\u001b[0m\u001b[0;34m=\u001b[0m\u001b[0minput_name\u001b[0m\u001b[0;34m,\u001b[0m\u001b[0;34m\u001b[0m\u001b[0;34m\u001b[0m\u001b[0m\n",
            "\u001b[0;32m/usr/local/lib/python3.10/dist-packages/sklearn/utils/validation.py\u001b[0m in \u001b[0;36m_assert_all_finite\u001b[0;34m(X, allow_nan, msg_dtype, estimator_name, input_name)\u001b[0m\n\u001b[1;32m    117\u001b[0m     \u001b[0;31m# error message.\u001b[0m\u001b[0;34m\u001b[0m\u001b[0;34m\u001b[0m\u001b[0m\n\u001b[1;32m    118\u001b[0m     \u001b[0;32mwith\u001b[0m \u001b[0mnp\u001b[0m\u001b[0;34m.\u001b[0m\u001b[0merrstate\u001b[0m\u001b[0;34m(\u001b[0m\u001b[0mover\u001b[0m\u001b[0;34m=\u001b[0m\u001b[0;34m\"ignore\"\u001b[0m\u001b[0;34m)\u001b[0m\u001b[0;34m:\u001b[0m\u001b[0;34m\u001b[0m\u001b[0;34m\u001b[0m\u001b[0m\n\u001b[0;32m--> 119\u001b[0;31m         \u001b[0mfirst_pass_isfinite\u001b[0m \u001b[0;34m=\u001b[0m \u001b[0mxp\u001b[0m\u001b[0;34m.\u001b[0m\u001b[0misfinite\u001b[0m\u001b[0;34m(\u001b[0m\u001b[0mxp\u001b[0m\u001b[0;34m.\u001b[0m\u001b[0msum\u001b[0m\u001b[0;34m(\u001b[0m\u001b[0mX\u001b[0m\u001b[0;34m)\u001b[0m\u001b[0;34m)\u001b[0m\u001b[0;34m\u001b[0m\u001b[0;34m\u001b[0m\u001b[0m\n\u001b[0m\u001b[1;32m    120\u001b[0m     \u001b[0;32mif\u001b[0m \u001b[0mfirst_pass_isfinite\u001b[0m\u001b[0;34m:\u001b[0m\u001b[0;34m\u001b[0m\u001b[0;34m\u001b[0m\u001b[0m\n\u001b[1;32m    121\u001b[0m         \u001b[0;32mreturn\u001b[0m\u001b[0;34m\u001b[0m\u001b[0;34m\u001b[0m\u001b[0m\n",
            "\u001b[0;31mKeyboardInterrupt\u001b[0m: "
          ]
        }
      ],
      "source": [
        "X_train, y_train, X_valid, y_valid, X_test, y_test = generate_data(5, 25, seed=1)\n",
        "num_features = X_train.shape[1]\n",
        "\n",
        "for epoch_coeff in tqdm((0.25, 0.5, 0.75, 1, 2, 5, num_features)):\n",
        "    np.random.seed(1)\n",
        "    start = time.time()\n",
        "    mcr = ModifiedConvexRegression(num_epochs=int(num_features * epoch_coeff))\n",
        "    mcr.fit(X_train, y_train, X_valid, y_valid)\n",
        "    y_pred_mcr = mcr.predict(X_test)\n",
        "    end = time.time()\n",
        "    r_2_mcr = round(r2_score(y_test, y_pred_mcr), 2)\n",
        "    time_mcr = end - start\n",
        "    vpk_r2_list_25.append(r_2_mcr)\n",
        "    vpk_time_list_25.append(time_mcr)"
      ]
    },
    {
      "cell_type": "code",
      "execution_count": null,
      "metadata": {
        "id": "sy0-w9dW0OVH"
      },
      "outputs": [],
      "source": [
        "vpk_r2_list_25 = [0.52, 0.69, 0.71, 0.69, 0.69, 0.7, 0.68]"
      ]
    },
    {
      "cell_type": "code",
      "execution_count": null,
      "metadata": {
        "id": "tHnTmAdH0OYB"
      },
      "outputs": [],
      "source": [
        "vpk_time_list_25 = [7.956491708755493,\n",
        " 13.425865173339844,\n",
        " 8.77297830581665,\n",
        " 9.918835401535034,\n",
        " 19.541483163833618,\n",
        " 42.50469207763672,\n",
        " 207.2590136528015]"
      ]
    },
    {
      "cell_type": "code",
      "execution_count": null,
      "metadata": {
        "id": "z-9ok0kP0Ohh"
      },
      "outputs": [],
      "source": [
        "X_train, y_train, X_valid, y_valid, X_test, y_test = generate_data(5, 35, seed=1)\n",
        "num_features = X_train.shape[1]\n",
        "\n",
        "for epoch_coeff in tqdm((0.25, 0.5, 0.75, 1, 2, 5, num_features)):\n",
        "    np.random.seed(1)\n",
        "    start = time.time()\n",
        "    mcr = ModifiedConvexRegression(num_epochs=int(num_features * epoch_coeff))\n",
        "    mcr.fit(X_train, y_train, X_valid, y_valid)\n",
        "    y_pred_mcr = mcr.predict(X_test)\n",
        "    end = time.time()\n",
        "    r_2_mcr = round(r2_score(y_test, y_pred_mcr), 2)\n",
        "    time_mcr = end - start\n",
        "    vpk_r2_list_35.append(r_2_mcr)\n",
        "    vpk_time_list_35.append(time_mcr)"
      ]
    },
    {
      "cell_type": "code",
      "execution_count": null,
      "metadata": {
        "id": "cvmykNsv0YNW"
      },
      "outputs": [],
      "source": [
        "vpk_r2_list_35 = [0.66, 0.65, 0.64, 0.68, 0.65, 0.74, 0.73]"
      ]
    },
    {
      "cell_type": "code",
      "execution_count": null,
      "metadata": {
        "id": "ORQUwDj30YPu"
      },
      "outputs": [],
      "source": [
        "vpk_time_list_35 = [4.048474311828613,\n",
        " 8.645368576049805,\n",
        " 12.10101866722107,\n",
        " 15.290427923202515,\n",
        " 30.067282676696777,\n",
        " 69.82249164581299,\n",
        " 556.764954328537]"
      ]
    },
    {
      "cell_type": "code",
      "execution_count": null,
      "metadata": {
        "id": "t37DPjyf0YZC"
      },
      "outputs": [],
      "source": [
        "X_train, y_train, X_valid, y_valid, X_test, y_test = generate_data(10, 25, seed=1)\n",
        "num_features = X_train.shape[1]\n",
        "\n",
        "for epoch_coeff in tqdm((0.25, 0.5, 0.75, 1, 2, 5, num_features)):\n",
        "    np.random.seed(1)\n",
        "    start = time.time()\n",
        "    mcr = ModifiedConvexRegression(num_epochs=int(num_features * epoch_coeff))\n",
        "    mcr.fit(X_train, y_train, X_valid, y_valid)\n",
        "    y_pred_mcr = mcr.predict(X_test)\n",
        "    end = time.time()\n",
        "    r_2_mcr = round(r2_score(y_test, y_pred_mcr), 2)\n",
        "    time_mcr = end - start\n",
        "    vpk_r2_list_30.append(r_2_mcr)\n",
        "    vpk_time_list_30.append(time_mcr)"
      ]
    },
    {
      "cell_type": "code",
      "execution_count": null,
      "metadata": {
        "id": "mJ9EuiyT0em_"
      },
      "outputs": [],
      "source": [
        "vpk_r2_list_30 = [0.49, 0.56, 0.55, 0.54, 0.53, 0.54, 0.55]"
      ]
    },
    {
      "cell_type": "code",
      "execution_count": null,
      "metadata": {
        "id": "Dha71fiL0era"
      },
      "outputs": [],
      "source": [
        "vpk_time_list_30 = [7.742231369018555,\n",
        " 15.676585912704468,\n",
        " 9.837647199630737,\n",
        " 13.37260890007019,\n",
        " 25.342735528945923,\n",
        " 59.001163482666016,\n",
        " 346.48700642585754]"
      ]
    },
    {
      "cell_type": "code",
      "execution_count": null,
      "metadata": {
        "id": "TBlJM_YA-Ngq",
        "colab": {
          "base_uri": "https://localhost:8080/",
          "height": 710
        },
        "outputId": "6642bf20-4654-4fb4-e453-d3cc904a575a"
      },
      "outputs": [
        {
          "output_type": "stream",
          "name": "stderr",
          "text": [
            "<ipython-input-50-52618f9a8a49>:20: UserWarning: FixedFormatter should only be used together with FixedLocator\n",
            "  axs[0].set_xticklabels(x_ticks, rotation=75, fontsize=11)\n",
            "<ipython-input-50-52618f9a8a49>:32: UserWarning: FixedFormatter should only be used together with FixedLocator\n",
            "  axs[1].set_xticklabels(x_ticks, rotation=75, fontsize=11)\n"
          ]
        },
        {
          "output_type": "display_data",
          "data": {
            "text/plain": [
              "<Figure size 1100x500 with 2 Axes>"
            ],
            "image/png": "[encoded data removed]"
          },
          "metadata": {}
        }
      ],
      "source": [
        "fig, axs = plt.subplots(1, 2)\n",
        "fig.set_size_inches(11, 5)\n",
        "fig.suptitle('Значение $r^2$-score и времени выполнения от количества эпох', fontsize=14)\n",
        "\n",
        "x_1 = list(range(7))\n",
        "x_ticks = ['',\n",
        "           '0.25 * n_features',\n",
        "           '0.5 * n_features',\n",
        "           '0.75 * n_features',\n",
        "           'n_features',\n",
        "           '2 * n_features',\n",
        "           '5 * n_features',\n",
        "           'n_features ** 2']\n",
        "axs[0].plot(x_1, vpk_r2_list_25, label='$n_{good} = 5, n_{bad} = 25$', linestyle='--')\n",
        "axs[0].plot(x_1, vpk_r2_list_30, label='$n_{good} = 10, n_{bad} = 25$', linestyle='--')\n",
        "axs[0].plot(x_1, vpk_r2_list_35, label='$n_{good} = 5, n_{bad} = 35$', linestyle='--')\n",
        "axs[0].set_title('Метрика качества')\n",
        "axs[0].grid()\n",
        "axs[0].legend(loc=5, fontsize=11)\n",
        "axs[0].set_xticklabels(x_ticks, rotation=75, fontsize=11)\n",
        "axs[0].set_xlabel('Количество эпох', fontsize=14)\n",
        "axs[0].set_ylabel('$r^2$-score', fontsize=11)\n",
        "\n",
        "\n",
        "axs[1].plot(x_1, vpk_time_list_25, label='$n_{good} = 5, n_{bad} = 25$', linestyle='--')\n",
        "axs[1].plot(x_1, vpk_time_list_30, label='$n_{good} = 10, n_{bad} = 25$', linestyle='--')\n",
        "axs[1].plot(x_1, vpk_time_list_35, label='$n_{good} = 5, n_{bad} = 35$', linestyle='--')\n",
        "axs[1].set_title('Время выполнения')\n",
        "axs[1].grid()\n",
        "axs[1].legend(loc=6, fontsize=11)\n",
        "axs[1].set_ylim([0, 100])\n",
        "axs[1].set_xticklabels(x_ticks, rotation=75, fontsize=11)\n",
        "axs[1].set_xlabel('Количество эпох', fontsize=14)\n",
        "axs[1].set_ylabel('Время, с', fontsize=14)\n",
        "\n",
        "\n",
        "plt.savefig(\"epoch.svg\")"
      ]
    },
    {
      "cell_type": "code",
      "execution_count": null,
      "metadata": {
        "id": "0DcFMvAO-1zl",
        "colab": {
          "base_uri": "https://localhost:8080/",
          "height": 992
        },
        "outputId": "1530976d-7490-4248-db6c-6d4f521d11f7"
      },
      "outputs": [
        {
          "output_type": "stream",
          "name": "stderr",
          "text": [
            "<ipython-input-77-dc8ceeb5bfc6>:35: UserWarning: FixedFormatter should only be used together with FixedLocator\n",
            "  axs[1].set_yticklabels(x_ticks_2, rotation=0, fontsize=11)\n"
          ]
        },
        {
          "output_type": "display_data",
          "data": {
            "text/plain": [
              "<Figure size 600x1000 with 2 Axes>"
            ],
            "image/png": "[encoded data removed]"
          },
          "metadata": {}
        }
      ],
      "source": [
        "fig, axs = plt.subplots(2, 1)\n",
        "fig.set_size_inches(6, 10)\n",
        "fig.suptitle('$r^2$-score and execution time from the number of epochs', fontsize=14)\n",
        "\n",
        "\n",
        "x_1 = list(range(25, 70, 5))\n",
        "x_1_vpk = list(range(25, 45, 5))\n",
        "axs[0].plot(x_1, r2_list_5_ridge, label='Ridge')\n",
        "axs[0].plot(x_1, r2_list_5_elastic, label='ElasticNet')\n",
        "axs[0].plot(x_1_vpk, r2_list_5_vpk, label='CR')\n",
        "axs[0].plot(x_1, r2_list_5_mcr, label='MCR')\n",
        "axs[0].grid()\n",
        "axs[0].set_xlabel('Number of noise features', fontsize=14)\n",
        "axs[0].set_ylabel('$r^2$-score', fontsize=14)\n",
        "axs[0].legend(loc=4, fontsize=11)\n",
        "\n",
        "\n",
        "x_2 = list(range(7))\n",
        "x_ticks_2 = ['',\n",
        "           '$ \\\\frac{1}{4} \\\\cdot n$',\n",
        "           '$ \\\\frac{1}{2} \\\\cdot n$',\n",
        "           '$ \\\\frac{3}{4} \\\\cdot n$',\n",
        "           '$n$',\n",
        "           '$2 \\\\cdot n$',\n",
        "           '$5 \\\\cdot n$',\n",
        "           '$n^2$']\n",
        "\n",
        "axs[1].plot(vpk_time_list_25, x_2, label='$n_{good} = 5, n_{bad} = 25$', linestyle='--')\n",
        "axs[1].plot(vpk_time_list_30,x_2, label='$n_{good} = 10, n_{bad} = 25$', linestyle='--')\n",
        "axs[1].plot(vpk_time_list_35,x_2, label='$n_{good} = 5, n_{bad} = 35$', linestyle='--')\n",
        "axs[1].set_title('Execution time')\n",
        "axs[1].grid()\n",
        "axs[1].legend(loc=4, fontsize=11)\n",
        "axs[1].set_xlim([0, 100])\n",
        "axs[1].set_yticklabels(x_ticks_2, rotation=0, fontsize=11)\n",
        "axs[1].set_ylabel('Number of epochs', fontsize=14)\n",
        "axs[1].set_xlabel('Time, s', fontsize=14)\n",
        "\n",
        "\n",
        "plt.savefig(\"m1p.jpg\")"
      ]
    },
    {
      "cell_type": "code",
      "source": [],
      "metadata": {
        "id": "3xoy3ZWB_dqt"
      },
      "execution_count": null,
      "outputs": []
    }
  ],
  "metadata": {
    "colab": {
      "provenance": []
    },
    "kernelspec": {
      "display_name": "Python 3",
      "name": "python3"
    },
    "language_info": {
      "name": "python"
    }
  },
  "nbformat": 4,
  "nbformat_minor": 0
}